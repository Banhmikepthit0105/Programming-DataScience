{
 "cells": [
  {
   "cell_type": "markdown",
   "metadata": {},
   "source": [
    "# 5. Reflection"
   ]
  },
  {
   "cell_type": "markdown",
   "metadata": {},
   "source": [
    "### For each member: What difficulties have you encountered?"
   ]
  },
  {
   "cell_type": "markdown",
   "metadata": {},
   "source": [
    "#### Hai Duong:\n",
    "- Limited time can be spent for this project.\n",
    "- Lack of data visualization skills leads to worse data understanding.\n",
    "- Some aspects of the dataset, such as interpreting the increment_code and its impact on game outcomes, required a deeper understanding of chess time controls and chess game insight in advance, which I had to research extensively."
   ]
  },
  {
   "cell_type": "markdown",
   "metadata": {},
   "source": [
    "#### Thanh Thai:\n",
    "- It was hard to clean the dataset because player ratings were inconsistent, and some games had missing data, which took extra time and custom scripts to fix.\n",
    "- Understanding how to use and combine data visualization charts was sometimes challenging.\n",
    "- Limited time made it difficult to complete all parts of the project."
   ]
  },
  {
   "cell_type": "markdown",
   "metadata": {},
   "source": [
    "#### Xuan Thanh\n",
    "- "
   ]
  },
  {
   "cell_type": "markdown",
   "metadata": {},
   "source": [
    "### For each member: What have you learned?"
   ]
  },
  {
   "cell_type": "markdown",
   "metadata": {},
   "source": [
    "#### Hai Duong:\n",
    "- Data preprocessing techniques allows me to better explore the data and reach better outcomes.\n",
    "- Each member developed stronger analytical skills, enabling them to derive meaningful insights from complex datasets. This includes formulating relevant questions and structuring analyses to answer them effectively.\n",
    "- Writing clean, well-documented code with meaningful variable names and comments shoule be a priority is the thing that we learned. That not only improves code readability but also facilitates collaboration within the team."
   ]
  },
  {
   "cell_type": "markdown",
   "metadata": {},
   "source": [
    "#### Thanh Thai:\n",
    "- I learned how to use domain-specific knowledge in chess, such as openings and tactics, to better analyze game results.\n",
    "- Also, I improved my skills in data visualization and learned how to create meaningful charts to analyze chess game trends."
   ]
  },
  {
   "cell_type": "markdown",
   "metadata": {},
   "source": [
    "#### Xuan Thanh\n",
    "- "
   ]
  },
  {
   "cell_type": "markdown",
   "metadata": {},
   "source": [
    "## For group: If you have more time, what would you do?"
   ]
  },
  {
   "cell_type": "markdown",
   "metadata": {},
   "source": [
    "- Perform customized Data mining: If more time given, our group would delve deeper into data mining techniques to extract high-value features. This could involve exploring advanced feature engineering methods, dimensionality reduction, and leveraging domain-specific knowledge to better capture the intricacies of chess games. Processing data-mining ourselves is expected to better retrived high-value features of data, which better fits with our target of analyzing. <br>\n",
    "\n",
    "- Advanced feature engineering: Apart from the basic loading and data processing, techniques that would be employed include time-series analysis for move sequences, embedding both positions and moves using machine learning (e.g. neural network embeddings), and computing metrics such as positional advantage, material count trends, and endgame evaluations. These will help in capturing more nuanced aspects of chess games. <br>\n",
    "\n",
    "- Domain-specific analysis: For example, opening classifications, tactical patterns, and positional motifs are some key elements that would be incorporated to not just hurtle towards a solution but factor how each of them impacts game outcomes. For instance, the clustering of games based on the opening choices could reveal interesting trends associated with the probability of winning a game. <br>\n",
    "\n",
    "- Exploring Neural network models: Once we have time on our hands, we would play around with neural networks for move prediction, classification of player skill levels, or game outcome forecasting. Convolutional or recurrent architectures could be employed to model chessboards and game sequences effectively. <br>\n",
    "\n",
    "- Winner Prediction Models: Build machine learning models to predict game winners. <br>\n",
    "\n",
    "- Documentation and Advanced research: We would, with more time, undertake proper documentation of methodologies and findings applied so far in this analysis, to be made available for references regarding the replicability of the results. The findings can also be published in the form of a research paper or journal article that can further enhance the area of chess analytics. <br>\n",
    "\n",
    "- Collaboration with experts: We would, time permitting, collaborate with professionals in chess or even enthusiasts in various aspects of the game. The validation of findings, creation of new hypotheses, and the infusion of qualitative insights into the analysis are factors that will play a part through such collaboration. <br>\n"
   ]
  },
  {
   "cell_type": "markdown",
   "metadata": {},
   "source": []
  }
 ],
 "metadata": {
  "language_info": {
   "name": "python"
  }
 },
 "nbformat": 4,
 "nbformat_minor": 2
}
