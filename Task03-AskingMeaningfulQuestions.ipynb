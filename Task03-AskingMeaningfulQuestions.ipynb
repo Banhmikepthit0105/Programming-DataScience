{
 "cells": [
  {
   "cell_type": "markdown",
   "metadata": {},
   "source": [
    "# **3. Ask meaning questions**"
   ]
  },
  {
   "cell_type": "markdown",
   "metadata": {},
   "source": [
    "---\n"
   ]
  },
  {
   "cell_type": "markdown",
   "metadata": {},
   "source": [
    "### **Question 1**: What is the average number of moves in games that end in a draw compared to games with a decisive result?"
   ]
  },
  {
   "cell_type": "markdown",
   "metadata": {},
   "source": [
    "***Insight***: Gain insights into game dynamics to inform strategies or predict outcomes based on game length."
   ]
  },
  {
   "cell_type": "markdown",
   "metadata": {},
   "source": [
    "### **Question 2**: Which openings are most commonly used, and how do they vary by player rating?"
   ]
  },
  {
   "cell_type": "markdown",
   "metadata": {},
   "source": [
    "***Insight***: Understand opening trends to help coaches tailor training and preparation."
   ]
  },
  {
   "cell_type": "markdown",
   "metadata": {},
   "source": [
    "### **Question 3**: Is there a difference in the performance of players across different openings when analyzed by rating groups?"
   ]
  },
  {
   "cell_type": "markdown",
   "metadata": {},
   "source": [
    "***Insight***: Gain insights into opening effectiveness by player rating and select openings that perform well within specific rating categories to boost success."
   ]
  },
  {
   "cell_type": "markdown",
   "metadata": {},
   "source": [
    "### **Question 4**: Do highly rated players tend to win faster (fewer moves) than lower-rated players?"
   ]
  },
  {
   "cell_type": "markdown",
   "metadata": {},
   "source": [
    "***Insight***: Analyze the link between player skill level and game duration."
   ]
  },
  {
   "cell_type": "markdown",
   "metadata": {},
   "source": [
    "### **Question 5**: What are the win rates for different openings for white and black?"
   ]
  },
  {
   "cell_type": "markdown",
   "metadata": {},
   "source": [
    "***Insight***: Evaluate the most successful openings for white and black players to guide strategy."
   ]
  },
  {
   "cell_type": "markdown",
   "metadata": {},
   "source": [
    "### **Question 6**: Can player ratings, opening choices, and time increments be used to predict the winner of a game?"
   ]
  },
  {
   "cell_type": "markdown",
   "metadata": {},
   "source": [
    "***Insight***: Explore the potential to build a predictive model for forecasting game outcomes based on key factors."
   ]
  },
  {
   "cell_type": "markdown",
   "metadata": {},
   "source": [
    "### **Question 7**: Which openings are common when a player wins due to resignation?\n",
    "\n",
    "***Insight***: Identifying openings that apply significant pressure"
   ]
  },
  {
   "cell_type": "markdown",
   "metadata": {},
   "source": [
    "### **Question 8**: Which first moves provide an advantage for each player?\n",
    "\n",
    "***Insight***: Identify the first moves that give White and Black a strategic advantage"
   ]
  },
  {
   "cell_type": "markdown",
   "metadata": {},
   "source": [
    "### **Question 9**: How does the rating difference (Rating_Diff) affect the outcome of a game?\n",
    "\n",
    "***Insight***: Understand how the rating difference (Rating_Diff) influences the likelihood of a player winning."
   ]
  },
  {
   "cell_type": "markdown",
   "metadata": {},
   "source": [
    "### **Question 10**: How does the base time affect the result of the game (win/loss/draw)?\n",
    "\n",
    "***Insight***: Explore how base time affects game outcomes, such as whether quicker games lead to more wins, losses, or draws."
   ]
  }
 ],
 "metadata": {
  "language_info": {
   "name": "python"
  }
 },
 "nbformat": 4,
 "nbformat_minor": 2
}
