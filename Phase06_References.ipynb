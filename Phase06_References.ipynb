{
 "cells": [
  {
   "cell_type": "markdown",
   "metadata": {},
   "source": [
    "# 6. References"
   ]
  },
  {
   "cell_type": "markdown",
   "metadata": {},
   "source": [
    "- Dataset: [Kaggle - Chess Game Dataset (Lichess)](https://www.kaggle.com/datasets/datasnaek/chess)\n",
    "- kaggle.com, BRN HURTADO. [\"Starter: Chess Game Dataset (Lichess) b7c900fc-7\".](https://www.kaggle.com/code/brnhurtado/starter-chess-game-dataset-lichess-b7c900fc-7)\n",
    "- kaggle.com, George Kanellos. [\"Analysis of lichess games\"](https://www.kaggle.com/code/noobiedatascientist/analysis-of-lichess-games)"
   ]
  },
  {
   "cell_type": "markdown",
   "metadata": {},
   "source": []
  }
 ],
 "metadata": {
  "language_info": {
   "name": "python"
  }
 },
 "nbformat": 4,
 "nbformat_minor": 2
}
