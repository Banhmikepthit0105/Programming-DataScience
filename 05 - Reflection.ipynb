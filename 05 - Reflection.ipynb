{
 "cells": [
  {
   "cell_type": "markdown",
   "metadata": {},
   "source": [
    "# 5. Reflection"
   ]
  },
  {
   "cell_type": "markdown",
   "metadata": {},
   "source": [
    "### For each member: What difficulties have you encountered?"
   ]
  },
  {
   "cell_type": "markdown",
   "metadata": {},
   "source": [
    "#### Hai Duong:\n",
    "- Limited time can be spent for this project.\n",
    "- Lack of data visualization skills leads to worse data understanding.\n",
    "- Some aspects of the dataset, such as interpreting the increment_code and its impact on game outcomes, required a deeper understanding of chess time controls and chess game insight in advance, which I had to research extensively."
   ]
  },
  {
   "cell_type": "markdown",
   "metadata": {},
   "source": [
    "### For each member: What have you learned?"
   ]
  },
  {
   "cell_type": "markdown",
   "metadata": {},
   "source": []
  },
  {
   "cell_type": "markdown",
   "metadata": {},
   "source": [
    "#### Hai Duong:\n",
    "- Data preprocessing techniques allows me to better explore the data and reach better outcomes.\n",
    "- Each member developed stronger analytical skills, enabling them to derive meaningful insights from complex datasets. This includes formulating relevant questions and structuring analyses to answer them effectively.\n",
    "- Writing clean, well-documented code with meaningful variable names and comments shoule be a priority is the thing that we learned. That not only improves code readability but also facilitates collaboration within the team."
   ]
  },
  {
   "cell_type": "markdown",
   "metadata": {},
   "source": [
    "## For group: If you have more time, what would you do?"
   ]
  },
  {
   "cell_type": "markdown",
   "metadata": {},
   "source": [
    "- If more time given, our group would delve deeper into data mining techniques to extract high-value features. This could involve exploring advanced feature engineering methods, dimensionality reduction, and leveraging domain-specific knowledge to better capture the intricacies of chess games. Processing data-mining ourselves is expected to better retrived high-value features of data, which better fits with our target of analyzing."
   ]
  }
 ],
 "metadata": {
  "language_info": {
   "name": "python"
  }
 },
 "nbformat": 4,
 "nbformat_minor": 2
}
