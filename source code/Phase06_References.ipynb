{
 "cells": [
  {
   "cell_type": "markdown",
   "metadata": {},
   "source": [
    "# 6. References"
   ]
  },
  {
   "cell_type": "markdown",
   "metadata": {},
   "source": [
    "- Dataset: [Kaggle - Chess Game Dataset (Lichess)](https://www.kaggle.com/datasets/datasnaek/chess)\n",
    "- kaggle.com, BRN HURTADO. [\"Starter: Chess Game Dataset (Lichess) b7c900fc-7\".](https://www.kaggle.com/code/brnhurtado/starter-chess-game-dataset-lichess-b7c900fc-7)\n",
    "- kaggle.com, George Kanellos. [\"Analysis of lichess games\"](https://www.kaggle.com/code/noobiedatascientist/analysis-of-lichess-games)\n",
    "\n",
    "- medium.com, Muhammad Ahmed[\"Statistical analysis of the Lichess dataset (chess game) using Python\"](https://medium.com/@mahmed31098/statistical-analysis-of-the-lichess-dataset-chess-game-using-python-f63eeaf7b592)\n",
    "\n",
    "- kaggle.com, Anuj Tyagi [\"Lichess EDA using Python\"](https://www.kaggle.com/code/atdata/lichess-chess-games-dataset-eda-using-python)"
   ]
  }
 ],
 "metadata": {
  "language_info": {
   "name": "python"
  }
 },
 "nbformat": 4,
 "nbformat_minor": 2
}
