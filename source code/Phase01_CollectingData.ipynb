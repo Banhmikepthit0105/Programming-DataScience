{
 "cells": [
  {
   "cell_type": "markdown",
   "metadata": {},
   "source": [
    "# **1. Collecting data**"
   ]
  },
  {
   "cell_type": "markdown",
   "metadata": {},
   "source": [
    "---\n",
    "\n",
    "## **1.1 Context**\n",
    "\n",
    "Cờ vua là một trò chơi chiến lược phức tạp. Kết quả trò chơi không chỉ dựa vào kỹ năng của người chơi mà còn bị ảnh hưởng bởi nhiều yếu tố như chiến lược khai cuộc, thời lượng ván đấu, xếp hạng người chơi và điều kiện thi đấu. Là những người yêu thích cờ vua, nhóm chúng em quyết định tìm hiểu **\"Làm thế nào để giành chiến thắng trong một ván cờ?**\" \n",
    "\n",
    "Để trả lời câu hỏi này, chúng em đã sử dụng bộ dữ liệu Lichess Chess Games\n",
    "\n",
    "---"
   ]
  },
  {
   "cell_type": "markdown",
   "metadata": {},
   "source": [
    "## **1.2 General Overview**\n",
    "\n",
    "Bộ dữ liệu này bao gồm **20.000 ván cờ** được thu thập từ [*Lichess.org*](https://lichess.org/), một nền tảng cờ vua trực tuyến mã nguồn mở. Mỗi ván cờ đều lưu lại nhiều thông tin chi tiết về metadata và quá trình chơi, là một nguồn tài nguyên tốt để phân tích các mô hình trong cờ vua.\n",
    "\n",
    "Bộ dữ liệu được thu thập thông qua **Lichess API**, cho phép truy xuất dữ liệu lịch sử các ván đấu của người chơi trên nền tảng này.\n",
    "\n",
    "---"
   ]
  },
  {
   "cell_type": "markdown",
   "metadata": {},
   "source": [
    "## **1.3 Dataset Description**\n",
    "\n",
    "Bộ dữ liệu bao gồm các thuộc tính sau:\n",
    "\n",
    "| **Trường dữ liệu**       | **Mô tả**                                                                                     \t\t\t|\n",
    "|--------------------------|--------------------------------------------------------------------------------------------------------|\n",
    "| **Game ID**              | Mã định danh duy nhất cho mỗi ván cờ.                                                                  |\n",
    "| **Rated (T/F)**          | Cho biết ván cờ có được xếp hạng (rated) hay không (unrated).\t\t\t\t\t\t\t\t\t\t\t|\n",
    "| **Start Time**           | Thời gian và ngày bắt đầu ván cờ.\t\t\t\t\t\t\t\t\t\t\t\t\t\t\t\t\t\t|\n",
    "| **End Time**             | Thời gian và ngày kết thúc ván cờ.\t\t\t\t\t\t\t\t\t\t\t\t\t\t\t\t\t\t|\t\n",
    "| **Number of Turns**      | Tổng số lượt chơi (plys) trong ván cờ.\t\t\t\t\t\t\t\t\t\t\t\t\t\t\t\t\t|\n",
    "| **Game Status**          | Trạng thái cuối cùng của ván cờ (ví dụ: chiếu hết, hòa cờ, hết giờ, v.v.).                             |\n",
    "| **Winner**               | Người thắng trong ván cờ (White, Black, hoặc Draw).                                                  \t|\n",
    "| **Time Increment**       | Thời gian kiểm soát của ván cờ, thường ở định dạng  `<base>+<increment>` (ví dụ: 3+2).                 |\n",
    "| **White Player ID**      | ID người chơi cờ trắng trên Lichess.                                                                   |\n",
    "| **White Player Rating**  | Xếp hạng của người chơi cờ trắng tại thời điểm ván cờ diễn ra.                                         |\n",
    "| **Black Player ID**      | ID người chơi cờ đen trên Lichess.                                                                   \t|\n",
    "| **Black Player Rating**  | Xếp hạng của người chơi cờ đen tại thời điểm ván cờ diễn ra.                                           |\n",
    "| **All Moves**            | Chuỗi tất cả các nước đi trong ván cờ, được ghi lại theo ký hiệu chuẩn của cờ vua.                     |\n",
    "| **Opening Eco**          | Mã [ECO (Bách khoa toàn thư về khai cuộc cờ vua)](https://en.wikipedia.org/wiki/Encyclopaedia_of_Chess_Openings) tiêu chuẩn cho khai cuộc được sử dụng trong ván cờ.|\n",
    "| **Opening Name**         | Tên của khai cuộc được chơi.                                                                      \t\t|\n",
    "| **Opening Ply**          | Số nước đi trong giai đoạn khai cuộc của ván cờ.                                               \t\t|\n",
    "\n",
    "\n",
    "---"
   ]
  },
  {
   "cell_type": "markdown",
   "metadata": {},
   "source": [
    "## **1.4. Data Source and Licensing**\n",
    "\n",
    "### **Source**\n",
    "\n",
    " Bộ dữ liệu được thu thập thông qua [*Lichess API*](https://github.com/lichess-org/lila)\n",
    "\n",
    "\n",
    "### **Collection Method**:\n",
    "\n",
    "1. **Trích xuất dữ liệu ván cờ:**\n",
    "   - Bộ dữ liệu bao gồm các ván cờ được truy xuất và xử lý thành định dạng có cấu trúc thông qua **Lichess API**.\n",
    "   - API này cho phép người dùng thu thập dữ liệu lịch sử các ván đấu của bất kỳ người chơi nào đã đăng ký trên Lichess.\n",
    "\n",
    "2. **Thu thập tên người dùng:**\n",
    "   - Tác giả cũng đề cập đến khó khăn trong việc lấy tên người dùng, tuy nhiên, API còn cung cấp khả năng trích xuất tất cả người dùng thuộc một đội trên Lichess.\n",
    "   - Một số đội trên Lichess có hơn 1.500 người chơi, giúp lấy danh sách người dùng và thu thập các ván đấu hiệu quả hơn.\n",
    "\n",
    "### **License**: \n",
    "\n",
    "1. **Sử dụng Lichess API:**\n",
    "   - API của Lichess thường được phép sử dụng cho mục đích phi thương mại với điều kiện ghi nhận nguồn gốc. Trong tệp README trong [*repository của Lichess*](https://github.com/lichess-org/lila), tác giả đã đề cập trong phần HTTP API rằng các API được cung cấp miễn phí.\n",
    "\n",
    "2. **Giấy phép phần mềm:**\n",
    "   - Lichess còn được biết đến với tên gọi Lila (li[chess in sca]la), là một dự án mã nguồn mở.\n",
    "   - Trong tệp README của repository, tác giả mô tả:\n",
    "   > *Lila (li[chess in sca]la) is a free online chess game server focused on realtime gameplay and ease of use.*\n",
    "\n",
    "   - Giấy phép phần mềm được định nghĩa theo [GNU Affero General Public License (AGPL)](https://github.com/lichess-org/lila/blob/master/COPYING.md):\n",
    "   > *Lila is free software; you can redistribute and/or modify it under the terms of the GNU Affero General Public License as published by the Free Software Foundation; either version 3 of the License, or (at your option) any later version.*\n",
    "\n",
    "\n"
   ]
  },
  {
   "cell_type": "markdown",
   "metadata": {},
   "source": [
    "## **1.5 Why This Dataset?**\n",
    "\n",
    "Bộ dữ liệu này đặc biệt phù hợp để trả lời câu hỏi **\"Làm thế nào để giành chiến thắng trong một ván cờ?\"** vì:\n",
    "1. Nó bao quát một loạt các thuộc tính cho mỗi ván đấu, từ xếp hạng người chơi đến toàn bộ các nước đi được ghi lại theo ký hiệu chuẩn.\n",
    "   \n",
    "2. Bộ dữ liệu tương đối lớn (20.000 ván cờ), phù hợp để phát hiện các mô hình trong nhiều tình huống và đối tượng người chơi khác nhau.\n",
    "\n",
    "3. Bộ dữ liệu có thể được mở rộng bằng cách sử dụng Lichess API, giúp ích cho các phân tích trong tương lai.\n",
    "\n"
   ]
  }
 ],
 "metadata": {
  "kernelspec": {
   "display_name": "lab01",
   "language": "python",
   "name": "python3"
  },
  "language_info": {
   "name": "python",
   "version": "3.10.8"
  }
 },
 "nbformat": 4,
 "nbformat_minor": 2
}
