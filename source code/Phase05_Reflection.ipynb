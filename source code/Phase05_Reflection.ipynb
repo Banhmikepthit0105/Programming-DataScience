{
 "cells": [
  {
   "cell_type": "markdown",
   "metadata": {},
   "source": [
    "# 5. Reflection"
   ]
  },
  {
   "cell_type": "markdown",
   "metadata": {},
   "source": [
    "### For each member: What difficulties have you encountered?"
   ]
  },
  {
   "cell_type": "markdown",
   "metadata": {},
   "source": [
    "#### Hai Duong:\n",
    "- Limited time can be spent for this project.\n",
    "- Lack of data visualization skills leads to worse data understanding.\n",
    "- Some aspects of the dataset, such as interpreting the increment_code and its impact on game outcomes, required a deeper understanding of chess time controls and chess game insight in advance, which I had to research extensively."
   ]
  },
  {
   "cell_type": "markdown",
   "metadata": {},
   "source": [
    "#### Thanh Thai:\n",
    "- It was hard to clean the dataset because player ratings were inconsistent, and some games had missing data, which took extra time and custom scripts to fix.\n",
    "- Understanding how to use and combine data visualization charts was sometimes challenging.\n",
    "- Limited time made it difficult to complete all parts of the project."
   ]
  },
  {
   "cell_type": "markdown",
   "metadata": {},
   "source": [
    "#### Xuan Thanh\n",
    "- Struggling with the dataset context was not being a chess player. Concepts like player ratings, time controls, and opening names felt abstract at first, making it harder to decide how to analyze the data meaningfully.\n",
    "- Hands-on experience in combining data visualization techniques to uncover meaningful insights and present complex information effectively.\n",
    "- Limited time was available to dedicate to this project."
   ]
  },
  {
   "cell_type": "markdown",
   "metadata": {},
   "source": [
    "### For each member: What have you learned?"
   ]
  },
  {
   "cell_type": "markdown",
   "metadata": {},
   "source": [
    "#### Hai Duong:\n",
    "- Data preprocessing techniques allows me to better explore the data and reach better outcomes.\n",
    "- Each member developed stronger analytical skills, enabling them to derive meaningful insights from complex datasets. This includes formulating relevant questions and structuring analyses to answer them effectively.\n",
    "- Writing clean, well-documented code with meaningful variable names and comments shoule be a priority is the thing that we learned. That not only improves code readability but also facilitates collaboration within the team."
   ]
  },
  {
   "cell_type": "markdown",
   "metadata": {},
   "source": [
    "#### Thanh Thai:\n",
    "- I learned how to use domain-specific knowledge in chess, such as openings and tactics, to better analyze game results.\n",
    "- Also, I improved my skills in data visualization and learned how to create meaningful charts to analyze chess game trends."
   ]
  },
  {
   "cell_type": "markdown",
   "metadata": {},
   "source": [
    "#### Xuan Thanh\n",
    "- As a newbie, I learned to understand dataset context through research and questions, also learned about chess domain knowledge.\n",
    "- I gained hands-on experience in creating and combining data visualizations to identify patterns and communicate insights, even when I was unfamiliar with the subject matter."
   ]
  },
  {
   "cell_type": "markdown",
   "metadata": {},
   "source": [
    "## For group: If you have more time, what would you do?"
   ]
  },
  {
   "cell_type": "markdown",
   "metadata": {},
   "source": [
    "- **Neural Network Models**: Explore neural networks for predicting moves, classifying skill levels, or forecasting game outcomes using architectures like CNNs or RNNs.\n",
    "\n",
    "- **Winner Prediction**: Develop machine learning models to predict game winners.\n",
    "\n",
    "- **Documentation and Research**: Properly document methodologies and results for reproducibility and potential publication in research papers.\n",
    "\n",
    "- **Collaboration**: Work with chess experts or enthusiasts to validate findings, create new hypotheses, and add qualitative insights to the analysis.\n"
   ]
  }
 ],
 "metadata": {
  "language_info": {
   "name": "python"
  }
 },
 "nbformat": 4,
 "nbformat_minor": 2
}
