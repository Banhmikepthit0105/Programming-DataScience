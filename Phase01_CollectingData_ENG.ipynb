{
 "cells": [
  {
   "cell_type": "markdown",
   "metadata": {},
   "source": [
    "# **1. Collecting data**"
   ]
  },
  {
   "cell_type": "markdown",
   "metadata": {},
   "source": [
    "---\n",
    "\n",
    "## **1.1 Context**\n",
    "\n",
    "Chess is a complex game of strategy, where the outcome depends not only on the skill of the players but also on many factors such as **opening strategy**, **game length**, **player ratings**, and **game conditions**. As we're all chess players, we determine to find out **\"How can I win a chess game?\"**\n",
    "\n",
    "Therefore, we have utilize **The Lichess Chess Games** dataset, which offers a wealth of information that can help answer that fundamental question.\n",
    "\n",
    "---"
   ]
  },
  {
   "cell_type": "markdown",
   "metadata": {},
   "source": [
    "Cờ vua là một trò chơi chiến lược phức tạp. Kết quả trò chơi không chỉ dựa vào kỹ năng của người chơi mà còn bị ảnh hưởng bởi nhiều yếu tố như chiến lược khai cuộc, thời lượng ván đấu, xếp hạng người chơi và điều kiện thi đấu. Là những người yêu thích cờ vua, nhóm chúng em quyết định tìm hiểu \"Làm thế nào để giành chiến thắng trong một ván cờ?\" \n",
    "\n",
    "Để trả lời câu hỏi này, chúng em đã sử dụng bộ dữ liệu Lichess Chess Games"
   ]
  },
  {
   "cell_type": "markdown",
   "metadata": {},
   "source": [
    "## **1.2 General Overview**\n",
    "\n",
    "This dataset consists of **20,000 chess games** collected from [*Lichess.org*](https://lichess.org/), an open-source online chess platform. Each game captures a variety of metadata and gameplay details, making it an excellent resource for analyzing patterns in chess games. \n",
    "\n",
    "The dataset was collected via the **Lichess API**, which allows fetching historical game data for users on the platform.\n",
    "\n",
    "---"
   ]
  },
  {
   "cell_type": "markdown",
   "metadata": {},
   "source": [
    "## **1.3 Dataset Description**\n",
    "\n",
    "The dataset contains the following columns:\n",
    "\n",
    "| **Field**                | **Description**                                                                                         |\n",
    "|--------------------------|---------------------------------------------------------------------------------------------------------|\n",
    "| **Game ID**              | Unique identifier for each chess game.                                                                 |\n",
    "| **Rated (T/F)**          | Indicates whether the game was rated or unrated.                                                       |\n",
    "| **Start Time**           | The date and time when the game started.                                                               |\n",
    "| **End Time**             | The date and time when the game ended.                                                                 |\n",
    "| **Number of Turns**      | Total number of turns (plys) played in the game.                                                       |\n",
    "| **Game Status**          | The final status of the game (e.g., checkmate, stalemate, timeout, etc.).                              |\n",
    "| **Winner**               | The winner of the game (`White`, `Black`, or `Draw`).                                                  |\n",
    "| **Time Increment**       | Time control for the game, typically in the format `<base>+<increment>` (e.g., 3+2).                   |\n",
    "| **White Player ID**      | Lichess user ID of the white player.                                                                   |\n",
    "| **White Player Rating**  | Rating of the white player at the time of the game.                                                    |\n",
    "| **Black Player ID**      | Lichess user ID of the black player.                                                                   |\n",
    "| **Black Player Rating**  | Rating of the black player at the time of the game.                                                    |\n",
    "| **All Moves**            | Sequence of all moves made in the game, recorded in standard chess notation.                           |\n",
    "| **Opening Eco**          | [Standardized ECO (Encyclopaedia of Chess Openings)](https://en.wikipedia.org/wiki/Encyclopaedia_of_Chess_Openings) code for the opening used in the game.              |\n",
    "| **Opening Name**         | Name of the chess opening played.                                                                      |\n",
    "| **Opening Ply**          | Number of moves during the opening phase of the game.                                                  |\n",
    "\n",
    "\n",
    "---"
   ]
  },
  {
   "cell_type": "markdown",
   "metadata": {},
   "source": [
    "## **1.4. Data Source and Licensing**\n",
    "\n",
    "### **Source**\n",
    "\n",
    " The dataset was collected using the [*Lichess API*](https://github.com/lichess-org/lila)\n",
    "\n",
    "\n",
    "### **Collection Method**:\n",
    "\n",
    "1. **Game Data Extraction:**\n",
    "   - The dataset contains chess games fetched and processed into a structured format using the **Lichess API**.\n",
    "   - The API allows users to collect historical game data for any player registered on Lichess.\n",
    "\n",
    "2. **Usernames Collection:**\n",
    "   - The author also mentioned his difficulty in fetching usernames to use, however the API also enables dumping of all users in a Lichess team. \n",
    "   - There are several teams on Lichess with over 1,500 players, so this proved an effective way to get users to collect games from.\n",
    "\n",
    "### **License**: \n",
    "\n",
    "1. **Lichess API Usage:**\n",
    "   - The Lichess API generally allows non-commercial use with attribution. In fact, in README file of [*Lichess's repository*](https://github.com/lichess-org/lila), the author has mentioned in **HTTP API** section that the APIs are free to use.\n",
    "\n",
    "2. **Software License:**\n",
    "   - Lichess is also known as **Lila** (*li[chess in sca]la*), an open-source project.\n",
    "   - In the repository's README file, the author describes:\n",
    "   > *Lila (li[chess in sca]la) is a free online chess game server focused on realtime gameplay and ease of use.*\n",
    "\n",
    "   - The software license is defined under the [GNU Affero General Public License (AGPL)](https://github.com/lichess-org/lila/blob/master/COPYING.md):\n",
    "   > *Lila is free software; you can redistribute and/or modify it under the terms of the GNU Affero General Public License as published by the Free Software Foundation; either version 3 of the License, or (at your option) any later version.*\n",
    "\n",
    "\n"
   ]
  },
  {
   "cell_type": "markdown",
   "metadata": {},
   "source": [
    "## **1.5 Why This Dataset?**\n",
    "\n",
    "This dataset is uniquely suited for answering **\"How to win a chess game?\"** because:\n",
    "1. It captures a comprehensive range of attributes for each game, from player ratings to all moves in standard notation.\n",
    "   \n",
    "2. It provides enough diversity (20,000 games) to uncover patterns across a wide variety of players and situations.\n",
    "\n",
    "3. It is easy to expand using the Lichess API, allowing for even deeper analyses in the future.\n",
    "\n"
   ]
  }
 ],
 "metadata": {
  "kernelspec": {
   "display_name": "lab01",
   "language": "python",
   "name": "python3"
  },
  "language_info": {
   "name": "python",
   "version": "3.10.8"
  }
 },
 "nbformat": 4,
 "nbformat_minor": 2
}
