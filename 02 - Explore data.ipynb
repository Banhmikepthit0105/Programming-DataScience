{
 "cells": [
  {
   "cell_type": "markdown",
   "metadata": {},
   "source": [
    "# 2. Exploring Data"
   ]
  },
  {
   "cell_type": "code",
   "execution_count": 219,
   "metadata": {},
   "outputs": [],
   "source": [
    "import pandas as pd\n",
    "import numpy as np\n",
    "import matplotlib.pyplot as plt\n",
    "import seaborn as sns\n",
    "\n",
    "%matplotlib inline\n",
    "\n",
    "sns.set(style=\"whitegrid\")"
   ]
  },
  {
   "cell_type": "code",
   "execution_count": 220,
   "metadata": {},
   "outputs": [
    {
     "name": "stdout",
     "output_type": "stream",
     "text": [
      "Dataset loaded successfully.\n"
     ]
    }
   ],
   "source": [
    "# Path\n",
    "data_file = \"games.csv\"\n",
    "\n",
    "try:\n",
    "    raw_df = pd.read_csv(data_file)\n",
    "    print(\"Dataset loaded successfully.\")\n",
    "except FileNotFoundError:\n",
    "    print(f\"File {data_file} not found. Please ensure the file is in the correct directory.\")"
   ]
  },
  {
   "cell_type": "markdown",
   "metadata": {},
   "source": [
    "### Describe data"
   ]
  },
  {
   "cell_type": "code",
   "execution_count": 221,
   "metadata": {},
   "outputs": [
    {
     "data": {
      "text/html": [
       "<div>\n",
       "<style scoped>\n",
       "    .dataframe tbody tr th:only-of-type {\n",
       "        vertical-align: middle;\n",
       "    }\n",
       "\n",
       "    .dataframe tbody tr th {\n",
       "        vertical-align: top;\n",
       "    }\n",
       "\n",
       "    .dataframe thead th {\n",
       "        text-align: right;\n",
       "    }\n",
       "</style>\n",
       "<table border=\"1\" class=\"dataframe\">\n",
       "  <thead>\n",
       "    <tr style=\"text-align: right;\">\n",
       "      <th></th>\n",
       "      <th>created_at</th>\n",
       "      <th>last_move_at</th>\n",
       "      <th>turns</th>\n",
       "      <th>white_rating</th>\n",
       "      <th>black_rating</th>\n",
       "      <th>opening_ply</th>\n",
       "    </tr>\n",
       "  </thead>\n",
       "  <tbody>\n",
       "    <tr>\n",
       "      <th>count</th>\n",
       "      <td>2.005800e+04</td>\n",
       "      <td>2.005800e+04</td>\n",
       "      <td>20058.000000</td>\n",
       "      <td>20058.000000</td>\n",
       "      <td>20058.000000</td>\n",
       "      <td>20058.000000</td>\n",
       "    </tr>\n",
       "    <tr>\n",
       "      <th>mean</th>\n",
       "      <td>1.483617e+12</td>\n",
       "      <td>1.483618e+12</td>\n",
       "      <td>60.465999</td>\n",
       "      <td>1596.631868</td>\n",
       "      <td>1588.831987</td>\n",
       "      <td>4.816981</td>\n",
       "    </tr>\n",
       "    <tr>\n",
       "      <th>std</th>\n",
       "      <td>2.850151e+10</td>\n",
       "      <td>2.850140e+10</td>\n",
       "      <td>33.570585</td>\n",
       "      <td>291.253376</td>\n",
       "      <td>291.036126</td>\n",
       "      <td>2.797152</td>\n",
       "    </tr>\n",
       "    <tr>\n",
       "      <th>min</th>\n",
       "      <td>1.376772e+12</td>\n",
       "      <td>1.376772e+12</td>\n",
       "      <td>1.000000</td>\n",
       "      <td>784.000000</td>\n",
       "      <td>789.000000</td>\n",
       "      <td>1.000000</td>\n",
       "    </tr>\n",
       "    <tr>\n",
       "      <th>25%</th>\n",
       "      <td>1.477548e+12</td>\n",
       "      <td>1.477548e+12</td>\n",
       "      <td>37.000000</td>\n",
       "      <td>1398.000000</td>\n",
       "      <td>1391.000000</td>\n",
       "      <td>3.000000</td>\n",
       "    </tr>\n",
       "    <tr>\n",
       "      <th>50%</th>\n",
       "      <td>1.496010e+12</td>\n",
       "      <td>1.496010e+12</td>\n",
       "      <td>55.000000</td>\n",
       "      <td>1567.000000</td>\n",
       "      <td>1562.000000</td>\n",
       "      <td>4.000000</td>\n",
       "    </tr>\n",
       "    <tr>\n",
       "      <th>75%</th>\n",
       "      <td>1.503170e+12</td>\n",
       "      <td>1.503170e+12</td>\n",
       "      <td>79.000000</td>\n",
       "      <td>1793.000000</td>\n",
       "      <td>1784.000000</td>\n",
       "      <td>6.000000</td>\n",
       "    </tr>\n",
       "    <tr>\n",
       "      <th>max</th>\n",
       "      <td>1.504493e+12</td>\n",
       "      <td>1.504494e+12</td>\n",
       "      <td>349.000000</td>\n",
       "      <td>2700.000000</td>\n",
       "      <td>2723.000000</td>\n",
       "      <td>28.000000</td>\n",
       "    </tr>\n",
       "  </tbody>\n",
       "</table>\n",
       "</div>"
      ],
      "text/plain": [
       "         created_at  last_move_at         turns  white_rating  black_rating  \\\n",
       "count  2.005800e+04  2.005800e+04  20058.000000  20058.000000  20058.000000   \n",
       "mean   1.483617e+12  1.483618e+12     60.465999   1596.631868   1588.831987   \n",
       "std    2.850151e+10  2.850140e+10     33.570585    291.253376    291.036126   \n",
       "min    1.376772e+12  1.376772e+12      1.000000    784.000000    789.000000   \n",
       "25%    1.477548e+12  1.477548e+12     37.000000   1398.000000   1391.000000   \n",
       "50%    1.496010e+12  1.496010e+12     55.000000   1567.000000   1562.000000   \n",
       "75%    1.503170e+12  1.503170e+12     79.000000   1793.000000   1784.000000   \n",
       "max    1.504493e+12  1.504494e+12    349.000000   2700.000000   2723.000000   \n",
       "\n",
       "        opening_ply  \n",
       "count  20058.000000  \n",
       "mean       4.816981  \n",
       "std        2.797152  \n",
       "min        1.000000  \n",
       "25%        3.000000  \n",
       "50%        4.000000  \n",
       "75%        6.000000  \n",
       "max       28.000000  "
      ]
     },
     "execution_count": 221,
     "metadata": {},
     "output_type": "execute_result"
    }
   ],
   "source": [
    "raw_df.describe()"
   ]
  },
  {
   "cell_type": "markdown",
   "metadata": {},
   "source": [
    "## Explore Dataset Structure\n",
    "\n",
    "### Number of Rows and Columns"
   ]
  },
  {
   "cell_type": "code",
   "execution_count": 222,
   "metadata": {},
   "outputs": [
    {
     "name": "stdout",
     "output_type": "stream",
     "text": [
      "Number of rows: 20058\n",
      "Number of columns: 16\n"
     ]
    }
   ],
   "source": [
    "num_rows, num_cols = raw_df.shape\n",
    "print(f\"Number of rows: {num_rows}\")\n",
    "print(f\"Number of columns: {num_cols}\")"
   ]
  },
  {
   "cell_type": "markdown",
   "metadata": {},
   "source": [
    "### Check for Duplicated Rows"
   ]
  },
  {
   "cell_type": "code",
   "execution_count": 223,
   "metadata": {},
   "outputs": [
    {
     "name": "stdout",
     "output_type": "stream",
     "text": [
      "Number of duplicated rows based on 'id': 945\n",
      "Dataset shape after removing duplicates: (19113, 16)\n"
     ]
    }
   ],
   "source": [
    "duplicated_count = raw_df.duplicated(subset='id').sum()\n",
    "print(f\"Number of duplicated rows based on 'id': {duplicated_count}\")\n",
    "\n",
    "raw_df.drop_duplicates(subset='id', keep='first', inplace=True)\n",
    "print(f\"Dataset shape after removing duplicates: {raw_df.shape}\")"
   ]
  },
  {
   "cell_type": "markdown",
   "metadata": {},
   "source": [
    "### Data Types of Each Column"
   ]
  },
  {
   "cell_type": "code",
   "execution_count": 224,
   "metadata": {},
   "outputs": [
    {
     "name": "stdout",
     "output_type": "stream",
     "text": [
      "Data Types of Each Column:\n",
      "id                 object\n",
      "rated                bool\n",
      "created_at        float64\n",
      "last_move_at      float64\n",
      "turns               int64\n",
      "victory_status     object\n",
      "winner             object\n",
      "increment_code     object\n",
      "white_id           object\n",
      "white_rating        int64\n",
      "black_id           object\n",
      "black_rating        int64\n",
      "moves              object\n",
      "opening_eco        object\n",
      "opening_name       object\n",
      "opening_ply         int64\n",
      "dtype: object\n"
     ]
    }
   ],
   "source": [
    "data_types = raw_df.dtypes\n",
    "print(\"Data Types of Each Column:\")\n",
    "print(data_types)"
   ]
  },
  {
   "cell_type": "markdown",
   "metadata": {},
   "source": [
    "All columns have appropriate data types. No immediate issues detected regarding data types."
   ]
  },
  {
   "cell_type": "markdown",
   "metadata": {},
   "source": [
    "## Analyze Numerical Columns"
   ]
  },
  {
   "cell_type": "code",
   "execution_count": 225,
   "metadata": {},
   "outputs": [
    {
     "name": "stdout",
     "output_type": "stream",
     "text": [
      "Numerical Columns: ['created_at', 'last_move_at', 'turns', 'white_rating', 'black_rating', 'opening_ply']\n"
     ]
    }
   ],
   "source": [
    "numerical_cols = raw_df.select_dtypes(include=['int64', 'float64']).columns.tolist()\n",
    "print(f\"Numerical Columns: {numerical_cols}\")"
   ]
  },
  {
   "cell_type": "markdown",
   "metadata": {},
   "source": [
    "### Distribution of Values"
   ]
  },
  {
   "cell_type": "code",
   "execution_count": 226,
   "metadata": {},
   "outputs": [
    {
     "data": {
      "image/png": "[encoded data removed]",
      "text/plain": [
       "<Figure size 1500x1000 with 16 Axes>"
      ]
     },
     "metadata": {},
     "output_type": "display_data"
    }
   ],
   "source": [
    "raw_df[numerical_cols].hist(bins=30, figsize=(15, 10), layout=(4, 4))\n",
    "plt.tight_layout()\n",
    "plt.show()"
   ]
  },
  {
   "cell_type": "markdown",
   "metadata": {},
   "source": [
    "### Percentage of Missing Values"
   ]
  },
  {
   "cell_type": "code",
   "execution_count": 227,
   "metadata": {},
   "outputs": [
    {
     "name": "stdout",
     "output_type": "stream",
     "text": [
      "Percentage of Missing Values in Numerical Columns:\n",
      "created_at      0.0\n",
      "last_move_at    0.0\n",
      "turns           0.0\n",
      "white_rating    0.0\n",
      "black_rating    0.0\n",
      "opening_ply     0.0\n",
      "dtype: float64\n"
     ]
    }
   ],
   "source": [
    "def missing_percentage(df):\n",
    "    return df.isnull().mean() * 100\n",
    "\n",
    "missing_values = missing_percentage(raw_df[numerical_cols])\n",
    "print(\"Percentage of Missing Values in Numerical Columns:\")\n",
    "print(missing_values)"
   ]
  },
  {
   "cell_type": "markdown",
   "metadata": {},
   "source": [
    "### Min and Max"
   ]
  },
  {
   "cell_type": "code",
   "execution_count": 228,
   "metadata": {},
   "outputs": [
    {
     "name": "stdout",
     "output_type": "stream",
     "text": [
      "Min and Max Values of Numerical Columns:\n",
      "                       Min           Max\n",
      "created_at    1.376772e+12  1.504493e+12\n",
      "last_move_at  1.376772e+12  1.504494e+12\n",
      "turns         1.000000e+00  3.490000e+02\n",
      "white_rating  7.840000e+02  2.700000e+03\n",
      "black_rating  7.890000e+02  2.723000e+03\n",
      "opening_ply   1.000000e+00  2.800000e+01\n"
     ]
    }
   ],
   "source": [
    "min_values = raw_df[numerical_cols].min()\n",
    "max_values = raw_df[numerical_cols].max()\n",
    "\n",
    "min_max_df = pd.DataFrame({'Min': min_values, 'Max': max_values})\n",
    "print(\"Min and Max Values of Numerical Columns:\")\n",
    "print(min_max_df)"
   ]
  },
  {
   "cell_type": "markdown",
   "metadata": {},
   "source": [
    "### Detect Abnormal Values"
   ]
  },
  {
   "cell_type": "code",
   "execution_count": 229,
   "metadata": {},
   "outputs": [
    {
     "name": "stdout",
     "output_type": "stream",
     "text": [
      "\n",
      "Column: created_at\n",
      "Number of Abnormal Values: 1814\n",
      "\n",
      "Column: last_move_at\n",
      "Number of Abnormal Values: 1814\n",
      "\n",
      "Column: turns\n",
      "Number of Abnormal Values: 412\n",
      "\n",
      "Column: white_rating\n",
      "Number of Abnormal Values: 130\n",
      "\n",
      "Column: black_rating\n",
      "Number of Abnormal Values: 92\n",
      "\n",
      "Column: opening_ply\n",
      "Number of Abnormal Values: 859\n"
     ]
    }
   ],
   "source": [
    "for col in numerical_cols:\n",
    "    Q1 = raw_df[col].quantile(0.25)\n",
    "    Q3 = raw_df[col].quantile(0.75)\n",
    "    IQR = Q3 - Q1\n",
    "    lower_bound = Q1 - 1.5 * IQR\n",
    "    upper_bound = Q3 + 1.5 * IQR\n",
    "    abnormal = raw_df[(raw_df[col] < lower_bound) | (raw_df[col] > upper_bound)]\n",
    "    print(f\"\\nColumn: {col}\")\n",
    "    print(f\"Number of Abnormal Values: {abnormal.shape[0]}\")"
   ]
  },
  {
   "cell_type": "markdown",
   "metadata": {},
   "source": [
    "## Analyze Categorical Columns"
   ]
  },
  {
   "cell_type": "code",
   "execution_count": 230,
   "metadata": {},
   "outputs": [
    {
     "name": "stdout",
     "output_type": "stream",
     "text": [
      "Categorical Columns: ['id', 'victory_status', 'winner', 'increment_code', 'white_id', 'black_id', 'moves', 'opening_eco', 'opening_name']\n",
      "\n",
      "\n",
      "Unique Values in Categorical Columns:\n",
      "id: ['TZJHLljE' 'l1NXvwaE' 'mIICvQHh' 'kWKvrqYL' '9tXo1AUZ']... \n",
      "\n",
      "victory_status: ['outoftime' 'resign' 'mate' 'draw']... \n",
      "\n",
      "winner: ['white' 'black' 'draw']... \n",
      "\n",
      "increment_code: ['15+2' '5+10' '20+0' '30+3' '10+0']... \n",
      "\n",
      "white_id: ['bourgris' 'a-00' 'ischia' 'daniamurashov' 'nik221107']... \n",
      "\n",
      "black_id: ['a-00' 'skinnerua' 'adivanov2009' 'franklin14532' 'daniel_likes_chess']... \n",
      "\n",
      "moves: ['d4 d5 c4 c6 cxd5 e6 dxe6 fxe6 Nf3 Bb4+ Nc3 Ba5 Bf4'\n",
      " 'd4 Nc6 e4 e5 f4 f6 dxe5 fxe5 fxe5 Nxe5 Qd4 Nc6 Qe5+ Nxe5 c4 Bb4+'\n",
      " 'e4 e5 d3 d6 Be3 c6 Be2 b5 Nd2 a5 a4 c5 axb5 Nc6 bxc6 Ra6 Nc4 a4 c3 a3 Nxa3 Rxa3 Rxa3 c4 dxc4 d5 cxd5 Qxd5 exd5 Be6 Ra8+ Ke7 Bc5+ Kf6 Bxf8 Kg6 Bxg7 Kxg7 dxe6 Kh6 exf7 Nf6 Rxh8 Nh5 Bxh5 Kg5 Rxh7 Kf5 Qf3+ Ke6 Bg4+ Kd6 Rh6+ Kc5 Qe3+ Kb5 c4+ Kb4 Qc3+ Ka4 Bd1#'\n",
      " 'd4 d5 Nf3 Bf5 Nc3 Nf6 Bf4 Ng4 e3 Nc6 Be2 Qd7 O-O O-O-O Nb5 Nb4 Rc1 Nxa2 Ra1 Nb4 Nxa7+ Kb8 Nb5 Bxc2 Bxc7+ Kc8 Qd2 Qc6 Na7+ Kd7 Nxc6 bxc6 Bxd8 Kxd8 Qxb4 e5 Qb8+ Ke7 dxe5 Be4 Ra7+ Ke6 Qe8+ Kf5 Qxf7+ Nf6 Nh4+ Kg5 g3 Ng4 Qf4+ Kh5 Qxg4+ Kh6 Qf4+ g5 Qf6+ Bg6 Nxg6 Bg7 Qxg7#'\n",
      " 'e4 e5 Nf3 d6 d4 Nc6 d5 Nb4 a3 Na6 Nc3 Be7 b4 Nf6 Bg5 O-O b5 Nc5 Bxf6 Bxf6 Bd3 Qd7 O-O Nxd3 Qxd3 c6 a4 cxd5 Nxd5 Qe6 Nc7 Qg4 Nxa8 Bd7 Nc7 Rc8 Nd5 Qg6 Nxf6+ Qxf6 Rfd1 Re8 Qxd6 Bg4 Qxf6 gxf6 Rd3 Bxf3 Rxf3 Rd8 Rxf6 Kg7 Rf3 Rd2 Rg3+ Kf8 c3 Re2 f3 Rc2 Rg5 f6 Rh5 Kg7 Rd1 Kg6 Rh3 Rxc3 Rd7 Rc1+ Kf2 Rc2+ Kg3 h5 Rxb7 Kg5 Rxa7 h4+ Rxh4 Rxg2+ Kxg2 Kxh4 b6 Kg5 b7 f5 exf5 Kxf5 b8=Q e4 Rf7+ Kg5 Qg8+ Kh6 Rh7#']... \n",
      "\n",
      "opening_eco: ['D10' 'B00' 'C20' 'D02' 'C41']... \n",
      "\n",
      "opening_name: ['Slav Defense: Exchange Variation'\n",
      " 'Nimzowitsch Defense: Kennedy Variation'\n",
      " \"King's Pawn Game: Leonardis Variation\"\n",
      " \"Queen's Pawn Game: Zukertort Variation\" 'Philidor Defense']... \n",
      "\n"
     ]
    }
   ],
   "source": [
    "# Categorical columns\n",
    "categorical_cols = raw_df.select_dtypes(include=['object']).columns.tolist()\n",
    "print(f\"Categorical Columns: {categorical_cols}\\n\")\n",
    "\n",
    "print(\"\\nUnique Values in Categorical Columns:\")\n",
    "for col in raw_df.select_dtypes(include=['object']).columns:\n",
    "    print(f\"{col}: {raw_df[col].unique()[:5]}... \\n\")"
   ]
  },
  {
   "cell_type": "markdown",
   "metadata": {},
   "source": [
    "### Percentage of Missing Values"
   ]
  },
  {
   "cell_type": "code",
   "execution_count": 231,
   "metadata": {},
   "outputs": [
    {
     "name": "stdout",
     "output_type": "stream",
     "text": [
      "Percentage of Missing Values in Categorical Columns:\n",
      "id                0.0\n",
      "victory_status    0.0\n",
      "winner            0.0\n",
      "increment_code    0.0\n",
      "white_id          0.0\n",
      "black_id          0.0\n",
      "moves             0.0\n",
      "opening_eco       0.0\n",
      "opening_name      0.0\n",
      "dtype: float64\n"
     ]
    }
   ],
   "source": [
    "missing_cat = missing_percentage(raw_df[categorical_cols])\n",
    "print(\"Percentage of Missing Values in Categorical Columns:\")\n",
    "print(missing_cat)"
   ]
  },
  {
   "cell_type": "markdown",
   "metadata": {},
   "source": [
    "### Number of Unique Values and Examples"
   ]
  },
  {
   "cell_type": "code",
   "execution_count": 232,
   "metadata": {},
   "outputs": [
    {
     "name": "stdout",
     "output_type": "stream",
     "text": [
      "\n",
      "Column: id\n",
      "Number of Unique Values: 19113\n",
      "Sample Values: ['TZJHLljE' 'l1NXvwaE' 'mIICvQHh' 'kWKvrqYL' '9tXo1AUZ']\n",
      "\n",
      "Column: victory_status\n",
      "Number of Unique Values: 4\n",
      "Sample Values: ['outoftime' 'resign' 'mate' 'draw']\n",
      "\n",
      "Column: winner\n",
      "Number of Unique Values: 3\n",
      "Sample Values: ['white' 'black' 'draw']\n",
      "\n",
      "Column: increment_code\n",
      "Number of Unique Values: 400\n",
      "Sample Values: ['15+2' '5+10' '20+0' '30+3' '10+0']\n",
      "\n",
      "Column: white_id\n",
      "Number of Unique Values: 9438\n",
      "Sample Values: ['bourgris' 'a-00' 'ischia' 'daniamurashov' 'nik221107']\n",
      "\n",
      "Column: black_id\n",
      "Number of Unique Values: 9331\n",
      "Sample Values: ['a-00' 'skinnerua' 'adivanov2009' 'franklin14532' 'daniel_likes_chess']\n",
      "\n",
      "Column: moves\n",
      "Number of Unique Values: 18920\n",
      "Sample Values: ['d4 d5 c4 c6 cxd5 e6 dxe6 fxe6 Nf3 Bb4+ Nc3 Ba5 Bf4'\n",
      " 'd4 Nc6 e4 e5 f4 f6 dxe5 fxe5 fxe5 Nxe5 Qd4 Nc6 Qe5+ Nxe5 c4 Bb4+'\n",
      " 'e4 e5 d3 d6 Be3 c6 Be2 b5 Nd2 a5 a4 c5 axb5 Nc6 bxc6 Ra6 Nc4 a4 c3 a3 Nxa3 Rxa3 Rxa3 c4 dxc4 d5 cxd5 Qxd5 exd5 Be6 Ra8+ Ke7 Bc5+ Kf6 Bxf8 Kg6 Bxg7 Kxg7 dxe6 Kh6 exf7 Nf6 Rxh8 Nh5 Bxh5 Kg5 Rxh7 Kf5 Qf3+ Ke6 Bg4+ Kd6 Rh6+ Kc5 Qe3+ Kb5 c4+ Kb4 Qc3+ Ka4 Bd1#'\n",
      " 'd4 d5 Nf3 Bf5 Nc3 Nf6 Bf4 Ng4 e3 Nc6 Be2 Qd7 O-O O-O-O Nb5 Nb4 Rc1 Nxa2 Ra1 Nb4 Nxa7+ Kb8 Nb5 Bxc2 Bxc7+ Kc8 Qd2 Qc6 Na7+ Kd7 Nxc6 bxc6 Bxd8 Kxd8 Qxb4 e5 Qb8+ Ke7 dxe5 Be4 Ra7+ Ke6 Qe8+ Kf5 Qxf7+ Nf6 Nh4+ Kg5 g3 Ng4 Qf4+ Kh5 Qxg4+ Kh6 Qf4+ g5 Qf6+ Bg6 Nxg6 Bg7 Qxg7#'\n",
      " 'e4 e5 Nf3 d6 d4 Nc6 d5 Nb4 a3 Na6 Nc3 Be7 b4 Nf6 Bg5 O-O b5 Nc5 Bxf6 Bxf6 Bd3 Qd7 O-O Nxd3 Qxd3 c6 a4 cxd5 Nxd5 Qe6 Nc7 Qg4 Nxa8 Bd7 Nc7 Rc8 Nd5 Qg6 Nxf6+ Qxf6 Rfd1 Re8 Qxd6 Bg4 Qxf6 gxf6 Rd3 Bxf3 Rxf3 Rd8 Rxf6 Kg7 Rf3 Rd2 Rg3+ Kf8 c3 Re2 f3 Rc2 Rg5 f6 Rh5 Kg7 Rd1 Kg6 Rh3 Rxc3 Rd7 Rc1+ Kf2 Rc2+ Kg3 h5 Rxb7 Kg5 Rxa7 h4+ Rxh4 Rxg2+ Kxg2 Kxh4 b6 Kg5 b7 f5 exf5 Kxf5 b8=Q e4 Rf7+ Kg5 Qg8+ Kh6 Rh7#']\n",
      "\n",
      "Column: opening_eco\n",
      "Number of Unique Values: 365\n",
      "Sample Values: ['D10' 'B00' 'C20' 'D02' 'C41']\n",
      "\n",
      "Column: opening_name\n",
      "Number of Unique Values: 1477\n",
      "Sample Values: ['Slav Defense: Exchange Variation'\n",
      " 'Nimzowitsch Defense: Kennedy Variation'\n",
      " \"King's Pawn Game: Leonardis Variation\"\n",
      " \"Queen's Pawn Game: Zukertort Variation\" 'Philidor Defense']\n"
     ]
    }
   ],
   "source": [
    "for col in categorical_cols:\n",
    "    unique_count = raw_df[col].nunique()\n",
    "    sample_values = raw_df[col].dropna().unique()[:5] \n",
    "    print(f\"\\nColumn: {col}\")\n",
    "    print(f\"Number of Unique Values: {unique_count}\")\n",
    "    print(f\"Sample Values: {sample_values}\")"
   ]
  },
  {
   "cell_type": "markdown",
   "metadata": {},
   "source": [
    "### Detect Abnormal Values"
   ]
  },
  {
   "cell_type": "code",
   "execution_count": 233,
   "metadata": {},
   "outputs": [
    {
     "name": "stdout",
     "output_type": "stream",
     "text": [
      "\n",
      "Column: id\n",
      "id\n",
      "TZJHLljE    1\n",
      "ojkMBE49    1\n",
      "JTfFY9HD    1\n",
      "0wkPVyCT    1\n",
      "9oQQUmDI    1\n",
      "Name: count, dtype: int64\n",
      "id\n",
      "VQYAN5Gg    1\n",
      "jsSuL4AK    1\n",
      "akJMiDuY    1\n",
      "xtdvNSoe    1\n",
      "N8G2JHGG    1\n",
      "Name: count, dtype: int64\n",
      "\n",
      "Column: victory_status\n",
      "victory_status\n",
      "resign       10695\n",
      "mate          5974\n",
      "outoftime     1598\n",
      "draw           846\n",
      "Name: count, dtype: int64\n",
      "victory_status\n",
      "resign       10695\n",
      "mate          5974\n",
      "outoftime     1598\n",
      "draw           846\n",
      "Name: count, dtype: int64\n",
      "\n",
      "Column: winner\n",
      "winner\n",
      "white    9545\n",
      "black    8680\n",
      "draw      888\n",
      "Name: count, dtype: int64\n",
      "winner\n",
      "white    9545\n",
      "black    8680\n",
      "draw      888\n",
      "Name: count, dtype: int64\n",
      "\n",
      "Column: increment_code\n",
      "increment_code\n",
      "10+0     7356\n",
      "15+0     1258\n",
      "15+15     821\n",
      "5+5       723\n",
      "5+8       678\n",
      "Name: count, dtype: int64\n",
      "increment_code\n",
      "17+2      1\n",
      "14+5      1\n",
      "90+120    1\n",
      "11+7      1\n",
      "14+15     1\n",
      "Name: count, dtype: int64\n",
      "\n",
      "Column: white_id\n",
      "white_id\n",
      "ssf7             48\n",
      "bleda            48\n",
      "hassan1365416    44\n",
      "khelil           41\n",
      "1240100948       38\n",
      "Name: count, dtype: int64\n",
      "white_id\n",
      "giuseppepiro    1\n",
      "izafiyet35      1\n",
      "teldja54        1\n",
      "learner0011     1\n",
      "marcodisogno    1\n",
      "Name: count, dtype: int64\n",
      "\n",
      "Column: black_id\n",
      "black_id\n",
      "docboss      44\n",
      "cape217      38\n",
      "amanan       33\n",
      "erikweisz    31\n",
      "jdbarger     30\n",
      "Name: count, dtype: int64\n",
      "black_id\n",
      "futmas         1\n",
      "chambaru       1\n",
      "nobrainhere    1\n",
      "citragang      1\n",
      "ffbob          1\n",
      "Name: count, dtype: int64\n",
      "\n",
      "Column: moves\n",
      "moves\n",
      "e4 e5        26\n",
      "e4 d5        21\n",
      "d4 d5        17\n",
      "e4 e5 Nf3    16\n",
      "e4           11\n",
      "Name: count, dtype: int64\n",
      "moves\n",
      "e4 c5 Nf3 Nc6 Nc3 e6 Bc4 Nf6 e5 d5 exf6 dxc4 d3 cxd3 cxd3 Qxf6 Ne4 Qe7 O-O g6 Bg5 Qc7 d4 Bg7 Nf6+ Kf8 d5 exd5 Nxd5 Qd6 Re1 Be6 Nf6 Qxd1 Raxd1 h6 Nd7+ Kg8 Bf6 Bxd7 Bxg7 Kxg7 Rxd7 b6 Rc7 Nd4 Ree7 Rhf8 Ne5 Kf6 Nxf7 h5 Ne5 Rad8 Nd7+ Kxe7 Nxf8+ Kxf8 Rxa7 Nc2 g3 Rd1+ Kg2 Rb1 b3 Ne1+ Kh3 Nf3 Rb7 Rh1 Rxb6 Rxh2#                                                                                                                                                                                                                        1\n",
      "d4 Nf6 c4 d5 e3 c5 Nf3 Bf5 Nc3 Nc6 Bd3 Bxd3 Qxd3 Nb4 Qe2 cxd4 exd4 dxc4 Qxc4 Nc2+ Kd2 Nxa1 Ne5 e6 Qb5+ Nd7 Ke3 Nc2+ Kf3 Nxd4+                                                                                                                                                                                                                                                                                                                                                                                                           1\n",
      "e4 e5 Nf3 Nc6 Bc4 Nf6 c3 Bc5 d4 exd4 cxd4 Bb6 e5 Ng4 Bg5 f6 exf6 gxf6 Qe2+ Qe7 h3 Qxe2+ Bxe2 Nxf2 Rf1 Ne4 Bf4 d6 Nbd2 Bf5 Nh4 Nxd2 Kxd2 Ba5+ Kc1 Be4 Bg4 f5 Bxf5 Bxf5 Nxf5 Rf8 Ng7+ Kd7 d5 Nd4 Ne6 Rf5 Nxd4 Rxd5 Nb3 Bb6 Kc2 Re8 Rae1 Rxe1 Rxe1 Rf5 Be3 Bxe3 Rxe3 Rf2+ Nd2 Rxg2 Kd3 c5 a3 Rg5 b4 b6 Nc4 Kc6 bxc5 Kxc5 Nd2 Rd5+ Ke2 a5 h4 b5 Ne4+ Kc6 Rc3+ Kb6 Kf3 b4 axb4 axb4 Rb3 Rd4 h5 d5 Nf6 h6 Ke3 Rh4 Rd3 Rh3+ Kd4 Rxd3+ Kxd3 Kb5 Nxd5 Ka4 Nb6+ Kb5 Nd5 b3 Nc3+ Kb4 Kd2 b2 Kc2 Ka3 Nb1+ Ka2 Nc3+ Ka3 Nb1+ Ka2 Nc3+ Ka1 Nb1 Ka2    1\n",
      "e4 e6 Nf3 d5 e5 c5 d4 cxd4 c3 dxc3 Nxc3 Nc6 Bf4 Bb4 Qb3 Bxc3+ Qxc3 d4 Nxd4 Qxd4 Rd1 Qxf4 Bb5 Bd7 O-O Nxe5 Bxd7+ Nxd7 g3 Qe5 Rfe1 Qxc3 bxc3 Ngf6 Rb1 b6 Rxb6 axb6 Rxe6+ fxe6 g4 Nxg4 h4 Ra3 f3 Nge5 Kf1 Rf8 Kg1 Rxf3 Kh1 Rf2 Kg1 Raxa2 Kh1 Ra1#                                                                                                                                                                                                                                                                                          1\n",
      "d4 d5 Bf4 Na6 e3 e6 c3 Nf6 Nf3 Bd7 Nbd2 b5 Bd3 Qc8 e4 b4 e5 Ne4 Nxe4 dxe4 Bxe4 bxc3 Bxa8 Qxa8 bxc3 Ba3 Rb1 c5 Qd3 O-O Qxa6 Bc6 Qxa3 Bxf3 gxf3 Qxf3 Qxa7 Qxh1+ Ke2 Qxb1 Qxc5 Qc2+ Ke3 Qxa2 Qb4 h6 c4 g5 Bg3 Qa8 c5 Rb8 Qc3 f5 f4 Qe4+ Kd2 Qg2+ Kd3 gxf4 Bxf4 Qf3+ Kc4 Qxf4 c6 Qf1+ Kc5 Rb1 Qg3+ Kf7 c7 Rc1+ Kd6 Qa6+ Kd7 Qb5+ Kd8 Qe8#                                                                                                                                                                                                   1\n",
      "Name: count, dtype: int64\n",
      "\n",
      "Column: opening_eco\n",
      "opening_eco\n",
      "A00    948\n",
      "C00    810\n",
      "D00    701\n",
      "B01    688\n",
      "C41    650\n",
      "Name: count, dtype: int64\n",
      "opening_eco\n",
      "C32    1\n",
      "A67    1\n",
      "E18    1\n",
      "D95    1\n",
      "D19    1\n",
      "Name: count, dtype: int64\n",
      "\n",
      "Column: opening_name\n",
      "opening_name\n",
      "Sicilian Defense                    349\n",
      "Van't Kruijs Opening                342\n",
      "Sicilian Defense: Bowdler Attack    290\n",
      "French Defense: Knight Variation    260\n",
      "Scotch Game                         254\n",
      "Name: count, dtype: int64\n",
      "opening_name\n",
      "King's Indian Defense: Orthodox Variation |  Donner Defense            1\n",
      "French Defense: Winawer Variation |  Retreat Variation                 1\n",
      "Sicilian Defense: O'Kelly Variation |  Maroczy Bind |  Paulsen Line    1\n",
      "Queen's Gambit Declined: Been-Koomen Variation                         1\n",
      "Sicilian Defense: Najdorf Variation |  Polugaevsky Variation           1\n",
      "Name: count, dtype: int64\n"
     ]
    }
   ],
   "source": [
    "for col in categorical_cols:\n",
    "    value_counts = raw_df[col].value_counts()\n",
    "    print(f\"\\nColumn: {col}\")\n",
    "    print(value_counts.head())\n",
    "    print(value_counts.tail())"
   ]
  },
  {
   "cell_type": "markdown",
   "metadata": {},
   "source": [
    "## Save"
   ]
  },
  {
   "cell_type": "code",
   "execution_count": 234,
   "metadata": {},
   "outputs": [
    {
     "name": "stdout",
     "output_type": "stream",
     "text": [
      "Dataset shape after dropping columns: (19113, 16)\n",
      "Cleaned data saved to clean_lichess_games.csv.\n"
     ]
    }
   ],
   "source": [
    "# Drop unnecessary columns\n",
    "columns_to_drop = [] # [\"id\", \"moves\", \"created_at\", \"last_move_at\"]\n",
    "clean_df = raw_df.drop(columns=columns_to_drop)\n",
    "print(f\"Dataset shape after dropping columns: {clean_df.shape}\")\n",
    "\n",
    "# Save the cleaned DataFrame\n",
    "clean_data_file = \"clean_lichess_games.csv\"\n",
    "clean_df.to_csv(clean_data_file, index=False, encoding='utf-8')\n",
    "print(f\"Cleaned data saved to {clean_data_file}.\")"
   ]
  }
 ],
 "metadata": {
  "kernelspec": {
   "display_name": "min_ds-env",
   "language": "python",
   "name": "python3"
  },
  "language_info": {
   "codemirror_mode": {
    "name": "ipython",
    "version": 3
   },
   "file_extension": ".py",
   "mimetype": "text/x-python",
   "name": "python",
   "nbconvert_exporter": "python",
   "pygments_lexer": "ipython3",
   "version": "3.13.0"
  }
 },
 "nbformat": 4,
 "nbformat_minor": 2
}
