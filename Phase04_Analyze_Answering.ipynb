{
 "cells": [
  {
   "cell_type": "markdown",
   "metadata": {},
   "source": [
    "# 4. Analyze and Answering the question"
   ]
  },
  {
   "cell_type": "markdown",
   "metadata": {},
   "source": [
    "At first of the time, we must load the cleaned data"
   ]
  },
  {
   "cell_type": "code",
   "execution_count": null,
   "metadata": {
    "vscode": {
     "languageId": "plaintext"
    }
   },
   "outputs": [],
   "source": []
  },
  {
   "cell_type": "markdown",
   "metadata": {},
   "source": [
    "## Question 1: What is the average number of moves in games that end in a draw compared to games with a decisive result?\n",
    "\n",
    "#### <span style='color:#2B9C15 '>🛠 Tiền xử lý </span>\n",
    "Không cần thiết\n",
    "\n",
    "#### <span style='color:#2B9C15 '>📉 Phân tích dữ liệu để trả lời cho các câu hỏi </span>\n",
    "\n"
   ]
  },
  {
   "cell_type": "markdown",
   "metadata": {},
   "source": []
  }
 ],
 "metadata": {
  "language_info": {
   "name": "python"
  }
 },
 "nbformat": 4,
 "nbformat_minor": 2
}
