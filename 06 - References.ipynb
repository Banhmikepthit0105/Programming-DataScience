{
 "cells": [
  {
   "cell_type": "markdown",
   "metadata": {},
   "source": [
    "# 6. References"
   ]
  },
  {
   "cell_type": "markdown",
   "metadata": {},
   "source": [
    "- Dataset: [Kaggle - Chess Game Dataset (Lichess)](https://www.kaggle.com/datasets/datasnaek/chess)\n",
    "- Python Libraries: pandas, numpy, matplotlib, seaborn\n",
    "- ..."
   ]
  }
 ],
 "metadata": {
  "language_info": {
   "name": "python"
  }
 },
 "nbformat": 4,
 "nbformat_minor": 2
}
