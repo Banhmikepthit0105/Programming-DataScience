{
 "cells": [
  {
   "cell_type": "markdown",
   "metadata": {},
   "source": [
    "# **2. Data Preprocessing**"
   ]
  },
  {
   "cell_type": "markdown",
   "metadata": {},
   "source": [
    "## Import neccessary libraries"
   ]
  },
  {
   "cell_type": "code",
   "execution_count": 143,
   "metadata": {},
   "outputs": [],
   "source": [
    "import pandas as pd\n",
    "import numpy as np\n",
    "import math\n",
    "import matplotlib.pyplot as plt\n",
    "import scipy.stats as stats\n",
    "import seaborn as sns"
   ]
  },
  {
   "cell_type": "markdown",
   "metadata": {},
   "source": [
    "First of all, we will read the data in our file *lichess_games.csv* and display randomly few samples"
   ]
  },
  {
   "cell_type": "code",
   "execution_count": 144,
   "metadata": {},
   "outputs": [
    {
     "data": {
      "text/html": [
       "<div>\n",
       "<style scoped>\n",
       "    .dataframe tbody tr th:only-of-type {\n",
       "        vertical-align: middle;\n",
       "    }\n",
       "\n",
       "    .dataframe tbody tr th {\n",
       "        vertical-align: top;\n",
       "    }\n",
       "\n",
       "    .dataframe thead th {\n",
       "        text-align: right;\n",
       "    }\n",
       "</style>\n",
       "<table border=\"1\" class=\"dataframe\">\n",
       "  <thead>\n",
       "    <tr style=\"text-align: right;\">\n",
       "      <th></th>\n",
       "      <th>id</th>\n",
       "      <th>rated</th>\n",
       "      <th>created_at</th>\n",
       "      <th>last_move_at</th>\n",
       "      <th>turns</th>\n",
       "      <th>victory_status</th>\n",
       "      <th>winner</th>\n",
       "      <th>increment_code</th>\n",
       "      <th>white_id</th>\n",
       "      <th>white_rating</th>\n",
       "      <th>black_id</th>\n",
       "      <th>black_rating</th>\n",
       "      <th>moves</th>\n",
       "      <th>opening_eco</th>\n",
       "      <th>opening_name</th>\n",
       "      <th>opening_ply</th>\n",
       "    </tr>\n",
       "  </thead>\n",
       "  <tbody>\n",
       "    <tr>\n",
       "      <th>11332</th>\n",
       "      <td>RS68WCJP</td>\n",
       "      <td>True</td>\n",
       "      <td>1.484945e+12</td>\n",
       "      <td>1.484945e+12</td>\n",
       "      <td>46</td>\n",
       "      <td>resign</td>\n",
       "      <td>white</td>\n",
       "      <td>10+5</td>\n",
       "      <td>kylarr</td>\n",
       "      <td>1345</td>\n",
       "      <td>sendy1311</td>\n",
       "      <td>1340</td>\n",
       "      <td>d4 e6 e4 d5 Nc3 Bb4 a3 Bxc3+ bxc3 dxe4 Bc4 f5 ...</td>\n",
       "      <td>C15</td>\n",
       "      <td>French Defense: Winawer Variation |  Winckelma...</td>\n",
       "      <td>7</td>\n",
       "    </tr>\n",
       "    <tr>\n",
       "      <th>19372</th>\n",
       "      <td>0szxiSdT</td>\n",
       "      <td>True</td>\n",
       "      <td>1.504351e+12</td>\n",
       "      <td>1.504351e+12</td>\n",
       "      <td>36</td>\n",
       "      <td>mate</td>\n",
       "      <td>black</td>\n",
       "      <td>10+0</td>\n",
       "      <td>s_hari</td>\n",
       "      <td>1143</td>\n",
       "      <td>erdugliano71</td>\n",
       "      <td>1984</td>\n",
       "      <td>e4 c5 Qf3 Nc6 Bc4 e6 Nh3 Ne5 d4 Nxf3+ gxf3 cxd...</td>\n",
       "      <td>B20</td>\n",
       "      <td>Sicilian Defense</td>\n",
       "      <td>2</td>\n",
       "    </tr>\n",
       "    <tr>\n",
       "      <th>9651</th>\n",
       "      <td>CBYqHsP1</td>\n",
       "      <td>True</td>\n",
       "      <td>1.493825e+12</td>\n",
       "      <td>1.493826e+12</td>\n",
       "      <td>42</td>\n",
       "      <td>resign</td>\n",
       "      <td>black</td>\n",
       "      <td>15+30</td>\n",
       "      <td>mashi</td>\n",
       "      <td>1374</td>\n",
       "      <td>bear_1102</td>\n",
       "      <td>1848</td>\n",
       "      <td>e4 c6 d4 d5 e5 Bf5 Bd3 Bxd3 Qxd3 e6 Nf3 Qa5+ B...</td>\n",
       "      <td>B12</td>\n",
       "      <td>Caro-Kann Defense: Advance Variation</td>\n",
       "      <td>5</td>\n",
       "    </tr>\n",
       "  </tbody>\n",
       "</table>\n",
       "</div>"
      ],
      "text/plain": [
       "             id  rated    created_at  last_move_at  turns victory_status  \\\n",
       "11332  RS68WCJP   True  1.484945e+12  1.484945e+12     46         resign   \n",
       "19372  0szxiSdT   True  1.504351e+12  1.504351e+12     36           mate   \n",
       "9651   CBYqHsP1   True  1.493825e+12  1.493826e+12     42         resign   \n",
       "\n",
       "      winner increment_code white_id  white_rating      black_id  \\\n",
       "11332  white           10+5   kylarr          1345     sendy1311   \n",
       "19372  black           10+0   s_hari          1143  erdugliano71   \n",
       "9651   black          15+30    mashi          1374     bear_1102   \n",
       "\n",
       "       black_rating                                              moves  \\\n",
       "11332          1340  d4 e6 e4 d5 Nc3 Bb4 a3 Bxc3+ bxc3 dxe4 Bc4 f5 ...   \n",
       "19372          1984  e4 c5 Qf3 Nc6 Bc4 e6 Nh3 Ne5 d4 Nxf3+ gxf3 cxd...   \n",
       "9651           1848  e4 c6 d4 d5 e5 Bf5 Bd3 Bxd3 Qxd3 e6 Nf3 Qa5+ B...   \n",
       "\n",
       "      opening_eco                                       opening_name  \\\n",
       "11332         C15  French Defense: Winawer Variation |  Winckelma...   \n",
       "19372         B20                                   Sicilian Defense   \n",
       "9651          B12               Caro-Kann Defense: Advance Variation   \n",
       "\n",
       "       opening_ply  \n",
       "11332            7  \n",
       "19372            2  \n",
       "9651             5  "
      ]
     },
     "execution_count": 144,
     "metadata": {},
     "output_type": "execute_result"
    }
   ],
   "source": [
    "lichess_games = \"lichess_games.csv\"\n",
    "raw_df = pd.read_csv(lichess_games)\n",
    "raw_df.sample(3)"
   ]
  },
  {
   "cell_type": "markdown",
   "metadata": {},
   "source": [
    "## A. Explore the data & Reduction Dimensionality"
   ]
  },
  {
   "cell_type": "markdown",
   "metadata": {},
   "source": [
    "## How many rows and columns in our dataset?"
   ]
  },
  {
   "cell_type": "code",
   "execution_count": 145,
   "metadata": {},
   "outputs": [
    {
     "name": "stdout",
     "output_type": "stream",
     "text": [
      "Number of rows and columns are: (20058, 16)\n"
     ]
    }
   ],
   "source": [
    "row_num = raw_df.shape[0]\n",
    "col_num = raw_df.shape[1]\n",
    "shape = (row_num, col_num)\n",
    "\n",
    "print(f\"Number of rows and columns are: {shape}\")"
   ]
  },
  {
   "cell_type": "markdown",
   "metadata": {},
   "source": [
    "This means that there are 20058 matches in our datasets and in each match, they are totally 16 attributes"
   ]
  },
  {
   "cell_type": "markdown",
   "metadata": {},
   "source": [
    "## What is the meaning of each row?"
   ]
  },
  {
   "cell_type": "code",
   "execution_count": 146,
   "metadata": {},
   "outputs": [
    {
     "data": {
      "text/html": [
       "<div>\n",
       "<style scoped>\n",
       "    .dataframe tbody tr th:only-of-type {\n",
       "        vertical-align: middle;\n",
       "    }\n",
       "\n",
       "    .dataframe tbody tr th {\n",
       "        vertical-align: top;\n",
       "    }\n",
       "\n",
       "    .dataframe thead th {\n",
       "        text-align: right;\n",
       "    }\n",
       "</style>\n",
       "<table border=\"1\" class=\"dataframe\">\n",
       "  <thead>\n",
       "    <tr style=\"text-align: right;\">\n",
       "      <th></th>\n",
       "      <th>id</th>\n",
       "      <th>rated</th>\n",
       "      <th>created_at</th>\n",
       "      <th>last_move_at</th>\n",
       "      <th>turns</th>\n",
       "      <th>victory_status</th>\n",
       "      <th>winner</th>\n",
       "      <th>increment_code</th>\n",
       "      <th>white_id</th>\n",
       "      <th>white_rating</th>\n",
       "      <th>black_id</th>\n",
       "      <th>black_rating</th>\n",
       "      <th>moves</th>\n",
       "      <th>opening_eco</th>\n",
       "      <th>opening_name</th>\n",
       "      <th>opening_ply</th>\n",
       "    </tr>\n",
       "  </thead>\n",
       "  <tbody>\n",
       "    <tr>\n",
       "      <th>11969</th>\n",
       "      <td>uOE0qPQE</td>\n",
       "      <td>True</td>\n",
       "      <td>1.501417e+12</td>\n",
       "      <td>1.501418e+12</td>\n",
       "      <td>50</td>\n",
       "      <td>resign</td>\n",
       "      <td>black</td>\n",
       "      <td>10+0</td>\n",
       "      <td>the_loving_boy</td>\n",
       "      <td>1612</td>\n",
       "      <td>aleksandrs79</td>\n",
       "      <td>1529</td>\n",
       "      <td>e4 e5 Nf3 Nc6 Bb5 Nf6 d3 Nd4 Bc4 d5 exd5 Nxd5 ...</td>\n",
       "      <td>C65</td>\n",
       "      <td>Ruy Lopez: Berlin Defense #2</td>\n",
       "      <td>6</td>\n",
       "    </tr>\n",
       "  </tbody>\n",
       "</table>\n",
       "</div>"
      ],
      "text/plain": [
       "             id  rated    created_at  last_move_at  turns victory_status  \\\n",
       "11969  uOE0qPQE   True  1.501417e+12  1.501418e+12     50         resign   \n",
       "\n",
       "      winner increment_code        white_id  white_rating      black_id  \\\n",
       "11969  black           10+0  the_loving_boy          1612  aleksandrs79   \n",
       "\n",
       "       black_rating                                              moves  \\\n",
       "11969          1529  e4 e5 Nf3 Nc6 Bb5 Nf6 d3 Nd4 Bc4 d5 exd5 Nxd5 ...   \n",
       "\n",
       "      opening_eco                  opening_name  opening_ply  \n",
       "11969         C65  Ruy Lopez: Berlin Defense #2            6  "
      ]
     },
     "execution_count": 146,
     "metadata": {},
     "output_type": "execute_result"
    }
   ],
   "source": [
    "raw_df.sample(1)"
   ]
  },
  {
   "cell_type": "markdown",
   "metadata": {},
   "source": [
    "Each row represents one complete game, providing details about the players, the result, the moves played, and the opening used. This allows for an analysis of individual game outcomes, player performance, and strategies."
   ]
  },
  {
   "cell_type": "markdown",
   "metadata": {},
   "source": [
    "## Are there duplicated rows?\n"
   ]
  },
  {
   "cell_type": "code",
   "execution_count": 147,
   "metadata": {},
   "outputs": [
    {
     "data": {
      "text/plain": [
       "id\n",
       "XRuQPSzH    5\n",
       "igSDFKv0    4\n",
       "edYOVb5F    4\n",
       "GstYv2mJ    4\n",
       "CvakmVNb    4\n",
       "           ..\n",
       "ZT8bSrQX    1\n",
       "Euox72jN    1\n",
       "CxVMX1g4    1\n",
       "zHPPTUB1    1\n",
       "N8G2JHGG    1\n",
       "Name: count, Length: 19113, dtype: int64"
      ]
     },
     "execution_count": 147,
     "metadata": {},
     "output_type": "execute_result"
    }
   ],
   "source": [
    "raw_df[\"id\"].value_counts().sort_values(ascending=False) "
   ]
  },
  {
   "cell_type": "markdown",
   "metadata": {},
   "source": [
    "Therefore, we will delete the duplicated rows"
   ]
  },
  {
   "cell_type": "code",
   "execution_count": 148,
   "metadata": {},
   "outputs": [],
   "source": [
    "raw_df.drop_duplicates(\"id\",keep=\"first\",inplace=True)"
   ]
  },
  {
   "cell_type": "code",
   "execution_count": 149,
   "metadata": {},
   "outputs": [
    {
     "name": "stdout",
     "output_type": "stream",
     "text": [
      "No duplicated row\n"
     ]
    }
   ],
   "source": [
    "num_duplicated_rows = raw_df.duplicated().sum()\n",
    "if num_duplicated_rows == 0:\n",
    "    print(f\"No duplicated row\")\n",
    "else:\n",
    "    print(f\"Duplicated rows: {num_duplicated_rows}\")"
   ]
  },
  {
   "cell_type": "markdown",
   "metadata": {},
   "source": [
    "## What is the meaning of each column?"
   ]
  },
  {
   "cell_type": "markdown",
   "metadata": {},
   "source": [
    "In our datasets, the meaning of each column will represent its meaning:\n",
    "1. **id**: Unique identifier for the game.\n",
    "2. **rated**: Whether the game is rated (TRUE or FALSE).\n",
    "3. **created_at**: The timestamp when the game was created, likely in Unix time format (milliseconds).\n",
    "4. **last_move_at**: The timestamp when the last move was made, also likely in Unix time format.\n",
    "5. **turns**: The number of moves (turns) in the game.\n",
    "6. **victory_status**: The result of the game (e.g., \"outoftime\", \"resign\", \"mate\" for checkmate).\n",
    "7. **winner**: The player who won the game (\"white\" or \"black\").\n",
    "8. **increment_code**: Time control used for the game (e.g., \"15+2\" means 15 minutes plus a 2-second increment per move).\n",
    "9. **white_id**: The ID of the player playing white.\n",
    "10. **white_rating**: The rating of the white player at the time of the game.\n",
    "11. **black_id**: The ID of the player playing black.\n",
    "12. **black_rating**: The rating of the black player at the time of the game.\n",
    "13. **moves**: The sequence of moves played in the game.\n",
    "14. **opening_eco**: The ECO (Encyclopedia of Chess Openings) code for the opening played.\n",
    "15. **opening_name**: The name of the opening played.\n",
    "16. **opening_ply**: The number of plies (half-moves) used in the opening phase of the game."
   ]
  },
  {
   "cell_type": "markdown",
   "metadata": {},
   "source": [
    "## What is the current data type of each column? Are there columns having inappropriate data types?"
   ]
  },
  {
   "cell_type": "code",
   "execution_count": 150,
   "metadata": {},
   "outputs": [
    {
     "data": {
      "text/plain": [
       "id                 object\n",
       "rated                bool\n",
       "created_at        float64\n",
       "last_move_at      float64\n",
       "turns               int64\n",
       "victory_status     object\n",
       "winner             object\n",
       "increment_code     object\n",
       "white_id           object\n",
       "white_rating        int64\n",
       "black_id           object\n",
       "black_rating        int64\n",
       "moves              object\n",
       "opening_eco        object\n",
       "opening_name       object\n",
       "opening_ply         int64\n",
       "dtype: object"
      ]
     },
     "execution_count": 150,
     "metadata": {},
     "output_type": "execute_result"
    }
   ],
   "source": [
    "get_dtypes = raw_df.dtypes\n",
    "get_dtypes"
   ]
  },
  {
   "cell_type": "markdown",
   "metadata": {},
   "source": [
    "Seems like there is no inappropriate data types in dataset features"
   ]
  },
  {
   "cell_type": "markdown",
   "metadata": {},
   "source": [
    "## With numerical columns, how are values distribute ?"
   ]
  },
  {
   "cell_type": "markdown",
   "metadata": {},
   "source": [
    "First of all, we will "
   ]
  },
  {
   "cell_type": "code",
   "execution_count": 151,
   "metadata": {},
   "outputs": [
    {
     "data": {
      "text/html": [
       "<div>\n",
       "<style scoped>\n",
       "    .dataframe tbody tr th:only-of-type {\n",
       "        vertical-align: middle;\n",
       "    }\n",
       "\n",
       "    .dataframe tbody tr th {\n",
       "        vertical-align: top;\n",
       "    }\n",
       "\n",
       "    .dataframe thead th {\n",
       "        text-align: right;\n",
       "    }\n",
       "</style>\n",
       "<table border=\"1\" class=\"dataframe\">\n",
       "  <thead>\n",
       "    <tr style=\"text-align: right;\">\n",
       "      <th></th>\n",
       "      <th>created_at</th>\n",
       "      <th>last_move_at</th>\n",
       "      <th>turns</th>\n",
       "      <th>white_rating</th>\n",
       "      <th>black_rating</th>\n",
       "      <th>opening_ply</th>\n",
       "    </tr>\n",
       "  </thead>\n",
       "  <tbody>\n",
       "    <tr>\n",
       "      <th>missing_ratio</th>\n",
       "      <td>0.000000e+00</td>\n",
       "      <td>0.000000e+00</td>\n",
       "      <td>0.0</td>\n",
       "      <td>0.0</td>\n",
       "      <td>0.0</td>\n",
       "      <td>0.0</td>\n",
       "    </tr>\n",
       "    <tr>\n",
       "      <th>min</th>\n",
       "      <td>1.376772e+12</td>\n",
       "      <td>1.376772e+12</td>\n",
       "      <td>1.0</td>\n",
       "      <td>784.0</td>\n",
       "      <td>789.0</td>\n",
       "      <td>1.0</td>\n",
       "    </tr>\n",
       "    <tr>\n",
       "      <th>lower_quartile</th>\n",
       "      <td>1.476910e+12</td>\n",
       "      <td>1.476912e+12</td>\n",
       "      <td>37.0</td>\n",
       "      <td>1401.0</td>\n",
       "      <td>1394.0</td>\n",
       "      <td>3.0</td>\n",
       "    </tr>\n",
       "    <tr>\n",
       "      <th>median</th>\n",
       "      <td>1.495670e+12</td>\n",
       "      <td>1.495670e+12</td>\n",
       "      <td>55.0</td>\n",
       "      <td>1567.0</td>\n",
       "      <td>1563.0</td>\n",
       "      <td>4.0</td>\n",
       "    </tr>\n",
       "    <tr>\n",
       "      <th>upper_quartile</th>\n",
       "      <td>1.503080e+12</td>\n",
       "      <td>1.503080e+12</td>\n",
       "      <td>79.0</td>\n",
       "      <td>1792.0</td>\n",
       "      <td>1785.0</td>\n",
       "      <td>6.0</td>\n",
       "    </tr>\n",
       "    <tr>\n",
       "      <th>max</th>\n",
       "      <td>1.504493e+12</td>\n",
       "      <td>1.504494e+12</td>\n",
       "      <td>349.0</td>\n",
       "      <td>2700.0</td>\n",
       "      <td>2723.0</td>\n",
       "      <td>28.0</td>\n",
       "    </tr>\n",
       "  </tbody>\n",
       "</table>\n",
       "</div>"
      ],
      "text/plain": [
       "                  created_at  last_move_at  turns  white_rating  black_rating  \\\n",
       "missing_ratio   0.000000e+00  0.000000e+00    0.0           0.0           0.0   \n",
       "min             1.376772e+12  1.376772e+12    1.0         784.0         789.0   \n",
       "lower_quartile  1.476910e+12  1.476912e+12   37.0        1401.0        1394.0   \n",
       "median          1.495670e+12  1.495670e+12   55.0        1567.0        1563.0   \n",
       "upper_quartile  1.503080e+12  1.503080e+12   79.0        1792.0        1785.0   \n",
       "max             1.504493e+12  1.504494e+12  349.0        2700.0        2723.0   \n",
       "\n",
       "                opening_ply  \n",
       "missing_ratio           0.0  \n",
       "min                     1.0  \n",
       "lower_quartile          3.0  \n",
       "median                  4.0  \n",
       "upper_quartile          6.0  \n",
       "max                    28.0  "
      ]
     },
     "execution_count": 151,
     "metadata": {},
     "output_type": "execute_result"
    }
   ],
   "source": [
    "numeric_cols_df = raw_df.select_dtypes(include=['number'])\n",
    "\n",
    "def missing_ratio(df):\n",
    "    return (df.isna().mean() * 100).round(1)\n",
    "\n",
    "def median(df):\n",
    "    return (df.quantile(0.5)).round(1)\n",
    "\n",
    "def lower_quartile(df):\n",
    "    return (df.quantile(0.25)).round(1)\n",
    "\n",
    "def upper_quartile(df):\n",
    "    return (df.quantile(0.75)).round(1)\n",
    "\n",
    "info_df = numeric_cols_df.agg([missing_ratio, \"min\", lower_quartile, median, upper_quartile, \"max\"])\n",
    "info_df"
   ]
  },
  {
   "cell_type": "code",
   "execution_count": 152,
   "metadata": {},
   "outputs": [
    {
     "name": "stdout",
     "output_type": "stream",
     "text": [
      "Average Rating of White is: 1597.300005232041\n",
      "Average Rating of Black is: 1590.045518756867\n",
      "Average Turns is: 60.513838748495786\n",
      "Average Opening Ply is: 4.815779835713912\n",
      "Average created_at is: 1483413101319.3103\n",
      "Average last_move_at is: 1483413974773.3328\n"
     ]
    },
    {
     "data": {
      "image/png": "[encoded data removed]",
      "text/plain": [
       "<Figure size 2100x600 with 6 Axes>"
      ]
     },
     "metadata": {},
     "output_type": "display_data"
    }
   ],
   "source": [
    "a4_dims = (21, 6)\n",
    "\n",
    "# Create subplots: 2 rows, 3 columns\n",
    "fig, ax = plt.subplots(2, 3, figsize=a4_dims)\n",
    "\n",
    "# Flatten axes for easier indexing\n",
    "ax = ax.flatten()\n",
    "\n",
    "sns.histplot(raw_df['created_at'], bins=30, ax=ax[0])\n",
    "sns.histplot(raw_df['last_move_at'], bins=30, ax=ax[1])\n",
    "sns.histplot(raw_df['turns'], bins=30, ax=ax[2])\n",
    "sns.histplot(raw_df['white_rating'], bins=30, ax=ax[3])\n",
    "sns.histplot(raw_df['black_rating'], bins=30, ax=ax[4])\n",
    "sns.histplot(raw_df['opening_ply'], bins=30, ax=ax[5])\n",
    "\n",
    "# Set titles for each subplot\n",
    "ax[0].set(title=\"Distribution of created_at\")\n",
    "ax[1].set(title=\"Distribution of last_move_at\")\n",
    "ax[2].set(title=\"Distribution of turns\")\n",
    "ax[3].set(title=\"Distribution of white_rating\")\n",
    "ax[4].set(title=\"Distribution of black_rating\")\n",
    "ax[5].set(title=\"Distribution of opening_ply\")\n",
    "\n",
    "# Print average values\n",
    "print('Average Rating of White is:', raw_df['white_rating'].mean())\n",
    "print('Average Rating of Black is:', raw_df['black_rating'].mean())\n",
    "print('Average Turns is:', raw_df['turns'].mean())\n",
    "print('Average Opening Ply is:', raw_df['opening_ply'].mean())\n",
    "print('Average created_at is:', raw_df['created_at'].mean())\n",
    "print('Average last_move_at is:', raw_df['last_move_at'].mean())\n",
    "\n",
    "# Adjust layout to avoid overlapping\n",
    "plt.tight_layout()\n",
    "\n",
    "# Show the plot\n",
    "plt.show()"
   ]
  },
  {
   "cell_type": "markdown",
   "metadata": {},
   "source": [
    "As can be shown from the charts, the value of create_at and last_move_at is abnormal since they are too the same. \n",
    "Moreovers, the meaning of create_at is redundant\n",
    "So, we will delete these 2 columns"
   ]
  },
  {
   "cell_type": "code",
   "execution_count": 153,
   "metadata": {},
   "outputs": [],
   "source": [
    "raw_df.drop([\"created_at\",\"last_move_at\"],axis=1,inplace=True) \n"
   ]
  },
  {
   "cell_type": "code",
   "execution_count": 154,
   "metadata": {},
   "outputs": [
    {
     "data": {
      "text/html": [
       "<div>\n",
       "<style scoped>\n",
       "    .dataframe tbody tr th:only-of-type {\n",
       "        vertical-align: middle;\n",
       "    }\n",
       "\n",
       "    .dataframe tbody tr th {\n",
       "        vertical-align: top;\n",
       "    }\n",
       "\n",
       "    .dataframe thead th {\n",
       "        text-align: right;\n",
       "    }\n",
       "</style>\n",
       "<table border=\"1\" class=\"dataframe\">\n",
       "  <thead>\n",
       "    <tr style=\"text-align: right;\">\n",
       "      <th></th>\n",
       "      <th>id</th>\n",
       "      <th>rated</th>\n",
       "      <th>turns</th>\n",
       "      <th>victory_status</th>\n",
       "      <th>winner</th>\n",
       "      <th>increment_code</th>\n",
       "      <th>white_id</th>\n",
       "      <th>white_rating</th>\n",
       "      <th>black_id</th>\n",
       "      <th>black_rating</th>\n",
       "      <th>moves</th>\n",
       "      <th>opening_eco</th>\n",
       "      <th>opening_name</th>\n",
       "      <th>opening_ply</th>\n",
       "    </tr>\n",
       "  </thead>\n",
       "  <tbody>\n",
       "    <tr>\n",
       "      <th>2115</th>\n",
       "      <td>cAsyF7Yr</td>\n",
       "      <td>True</td>\n",
       "      <td>23</td>\n",
       "      <td>resign</td>\n",
       "      <td>white</td>\n",
       "      <td>14+10</td>\n",
       "      <td>h0l4nd3s</td>\n",
       "      <td>1579</td>\n",
       "      <td>ecstasydrug</td>\n",
       "      <td>1522</td>\n",
       "      <td>d4 d5 c4 Nf6 Nf3 e6 cxd5 exd5 e3 Bb4+ Bd2 Bxd2...</td>\n",
       "      <td>D06</td>\n",
       "      <td>Queen's Gambit Refused: Marshall Defense</td>\n",
       "      <td>4</td>\n",
       "    </tr>\n",
       "  </tbody>\n",
       "</table>\n",
       "</div>"
      ],
      "text/plain": [
       "            id  rated  turns victory_status winner increment_code  white_id  \\\n",
       "2115  cAsyF7Yr   True     23         resign  white          14+10  h0l4nd3s   \n",
       "\n",
       "      white_rating     black_id  black_rating  \\\n",
       "2115          1579  ecstasydrug          1522   \n",
       "\n",
       "                                                  moves opening_eco  \\\n",
       "2115  d4 d5 c4 Nf6 Nf3 e6 cxd5 exd5 e3 Bb4+ Bd2 Bxd2...         D06   \n",
       "\n",
       "                                  opening_name  opening_ply  \n",
       "2115  Queen's Gambit Refused: Marshall Defense            4  "
      ]
     },
     "execution_count": 154,
     "metadata": {},
     "output_type": "execute_result"
    }
   ],
   "source": [
    "raw_df.sample(1)"
   ]
  },
  {
   "cell_type": "markdown",
   "metadata": {},
   "source": [
    "## With each categorical column, how are values distributed?"
   ]
  },
  {
   "cell_type": "code",
   "execution_count": 155,
   "metadata": {},
   "outputs": [
    {
     "data": {
      "text/html": [
       "<div>\n",
       "<style scoped>\n",
       "    .dataframe tbody tr th:only-of-type {\n",
       "        vertical-align: middle;\n",
       "    }\n",
       "\n",
       "    .dataframe tbody tr th {\n",
       "        vertical-align: top;\n",
       "    }\n",
       "\n",
       "    .dataframe thead th {\n",
       "        text-align: right;\n",
       "    }\n",
       "</style>\n",
       "<table border=\"1\" class=\"dataframe\">\n",
       "  <thead>\n",
       "    <tr style=\"text-align: right;\">\n",
       "      <th></th>\n",
       "      <th>id</th>\n",
       "      <th>victory_status</th>\n",
       "      <th>winner</th>\n",
       "      <th>increment_code</th>\n",
       "      <th>white_id</th>\n",
       "      <th>black_id</th>\n",
       "      <th>moves</th>\n",
       "      <th>opening_eco</th>\n",
       "      <th>opening_name</th>\n",
       "    </tr>\n",
       "  </thead>\n",
       "  <tbody>\n",
       "    <tr>\n",
       "      <th>missing_ratio</th>\n",
       "      <td>0.0</td>\n",
       "      <td>0.0</td>\n",
       "      <td>0.0</td>\n",
       "      <td>0.0</td>\n",
       "      <td>0.0</td>\n",
       "      <td>0.0</td>\n",
       "      <td>0.0</td>\n",
       "      <td>0.0</td>\n",
       "      <td>0.0</td>\n",
       "    </tr>\n",
       "    <tr>\n",
       "      <th>num_values</th>\n",
       "      <td>19113</td>\n",
       "      <td>4</td>\n",
       "      <td>3</td>\n",
       "      <td>400</td>\n",
       "      <td>9438</td>\n",
       "      <td>9331</td>\n",
       "      <td>18920</td>\n",
       "      <td>365</td>\n",
       "      <td>1477</td>\n",
       "    </tr>\n",
       "    <tr>\n",
       "      <th>value_ratios</th>\n",
       "      <td>{'TZJHLljE': 0.0, 'ojkMBE49': 0.0, 'JTfFY9HD':...</td>\n",
       "      <td>{'resign': 56.0, 'mate': 31.3, 'outoftime': 8....</td>\n",
       "      <td>{'white': 49.9, 'black': 45.4, 'draw': 4.6}</td>\n",
       "      <td>{'10+0': 38.5, '15+0': 6.6, '15+15': 4.3, '5+5...</td>\n",
       "      <td>{'ssf7': 0.3, 'bleda': 0.3, 'hassan1365416': 0...</td>\n",
       "      <td>{'docboss': 0.2, 'cape217': 0.2, 'amanan': 0.2...</td>\n",
       "      <td>{'e4 e5': 0.1, 'e4 d5': 0.1, 'd4 d5': 0.1, 'e4...</td>\n",
       "      <td>{'A00': 5.0, 'C00': 4.2, 'D00': 3.7, 'B01': 3....</td>\n",
       "      <td>{'Sicilian Defense': 1.8, 'Van't Kruijs Openin...</td>\n",
       "    </tr>\n",
       "  </tbody>\n",
       "</table>\n",
       "</div>"
      ],
      "text/plain": [
       "                                                              id  \\\n",
       "missing_ratio                                                0.0   \n",
       "num_values                                                 19113   \n",
       "value_ratios   {'TZJHLljE': 0.0, 'ojkMBE49': 0.0, 'JTfFY9HD':...   \n",
       "\n",
       "                                                  victory_status  \\\n",
       "missing_ratio                                                0.0   \n",
       "num_values                                                     4   \n",
       "value_ratios   {'resign': 56.0, 'mate': 31.3, 'outoftime': 8....   \n",
       "\n",
       "                                                    winner  \\\n",
       "missing_ratio                                          0.0   \n",
       "num_values                                               3   \n",
       "value_ratios   {'white': 49.9, 'black': 45.4, 'draw': 4.6}   \n",
       "\n",
       "                                                  increment_code  \\\n",
       "missing_ratio                                                0.0   \n",
       "num_values                                                   400   \n",
       "value_ratios   {'10+0': 38.5, '15+0': 6.6, '15+15': 4.3, '5+5...   \n",
       "\n",
       "                                                        white_id  \\\n",
       "missing_ratio                                                0.0   \n",
       "num_values                                                  9438   \n",
       "value_ratios   {'ssf7': 0.3, 'bleda': 0.3, 'hassan1365416': 0...   \n",
       "\n",
       "                                                        black_id  \\\n",
       "missing_ratio                                                0.0   \n",
       "num_values                                                  9331   \n",
       "value_ratios   {'docboss': 0.2, 'cape217': 0.2, 'amanan': 0.2...   \n",
       "\n",
       "                                                           moves  \\\n",
       "missing_ratio                                                0.0   \n",
       "num_values                                                 18920   \n",
       "value_ratios   {'e4 e5': 0.1, 'e4 d5': 0.1, 'd4 d5': 0.1, 'e4...   \n",
       "\n",
       "                                                     opening_eco  \\\n",
       "missing_ratio                                                0.0   \n",
       "num_values                                                   365   \n",
       "value_ratios   {'A00': 5.0, 'C00': 4.2, 'D00': 3.7, 'B01': 3....   \n",
       "\n",
       "                                                    opening_name  \n",
       "missing_ratio                                                0.0  \n",
       "num_values                                                  1477  \n",
       "value_ratios   {'Sicilian Defense': 1.8, 'Van't Kruijs Openin...  "
      ]
     },
     "execution_count": 155,
     "metadata": {},
     "output_type": "execute_result"
    }
   ],
   "source": [
    "def value_ratios(s):\n",
    "    total_count = s.notna().sum()\n",
    "    ratios = (s.value_counts(dropna=True) / total_count * 100).round(1)\n",
    "    return ratios.to_dict()\n",
    "\n",
    "def num_values(s):\n",
    "    return s.value_counts().count()\n",
    "\n",
    "object_cols = raw_df.select_dtypes(include='object')\n",
    "object_cols = object_cols.agg([missing_ratio, num_values, value_ratios])\n",
    "object_cols"
   ]
  },
  {
   "cell_type": "markdown",
   "metadata": {},
   "source": [
    "We can observe that the **id**, **move** columns is redundant because it does not have much meaning. We will remove it"
   ]
  },
  {
   "cell_type": "code",
   "execution_count": 156,
   "metadata": {},
   "outputs": [],
   "source": [
    "raw_df.drop([\"id\",\"moves\"],axis=1,inplace=True) "
   ]
  },
  {
   "cell_type": "code",
   "execution_count": 157,
   "metadata": {},
   "outputs": [
    {
     "data": {
      "text/html": [
       "<div>\n",
       "<style scoped>\n",
       "    .dataframe tbody tr th:only-of-type {\n",
       "        vertical-align: middle;\n",
       "    }\n",
       "\n",
       "    .dataframe tbody tr th {\n",
       "        vertical-align: top;\n",
       "    }\n",
       "\n",
       "    .dataframe thead th {\n",
       "        text-align: right;\n",
       "    }\n",
       "</style>\n",
       "<table border=\"1\" class=\"dataframe\">\n",
       "  <thead>\n",
       "    <tr style=\"text-align: right;\">\n",
       "      <th></th>\n",
       "      <th>rated</th>\n",
       "      <th>turns</th>\n",
       "      <th>victory_status</th>\n",
       "      <th>winner</th>\n",
       "      <th>increment_code</th>\n",
       "      <th>white_id</th>\n",
       "      <th>white_rating</th>\n",
       "      <th>black_id</th>\n",
       "      <th>black_rating</th>\n",
       "      <th>opening_eco</th>\n",
       "      <th>opening_name</th>\n",
       "      <th>opening_ply</th>\n",
       "    </tr>\n",
       "  </thead>\n",
       "  <tbody>\n",
       "    <tr>\n",
       "      <th>0</th>\n",
       "      <td>False</td>\n",
       "      <td>13</td>\n",
       "      <td>outoftime</td>\n",
       "      <td>white</td>\n",
       "      <td>15+2</td>\n",
       "      <td>bourgris</td>\n",
       "      <td>1500</td>\n",
       "      <td>a-00</td>\n",
       "      <td>1191</td>\n",
       "      <td>D10</td>\n",
       "      <td>Slav Defense: Exchange Variation</td>\n",
       "      <td>5</td>\n",
       "    </tr>\n",
       "    <tr>\n",
       "      <th>1</th>\n",
       "      <td>True</td>\n",
       "      <td>16</td>\n",
       "      <td>resign</td>\n",
       "      <td>black</td>\n",
       "      <td>5+10</td>\n",
       "      <td>a-00</td>\n",
       "      <td>1322</td>\n",
       "      <td>skinnerua</td>\n",
       "      <td>1261</td>\n",
       "      <td>B00</td>\n",
       "      <td>Nimzowitsch Defense: Kennedy Variation</td>\n",
       "      <td>4</td>\n",
       "    </tr>\n",
       "    <tr>\n",
       "      <th>2</th>\n",
       "      <td>True</td>\n",
       "      <td>61</td>\n",
       "      <td>mate</td>\n",
       "      <td>white</td>\n",
       "      <td>5+10</td>\n",
       "      <td>ischia</td>\n",
       "      <td>1496</td>\n",
       "      <td>a-00</td>\n",
       "      <td>1500</td>\n",
       "      <td>C20</td>\n",
       "      <td>King's Pawn Game: Leonardis Variation</td>\n",
       "      <td>3</td>\n",
       "    </tr>\n",
       "    <tr>\n",
       "      <th>3</th>\n",
       "      <td>True</td>\n",
       "      <td>61</td>\n",
       "      <td>mate</td>\n",
       "      <td>white</td>\n",
       "      <td>20+0</td>\n",
       "      <td>daniamurashov</td>\n",
       "      <td>1439</td>\n",
       "      <td>adivanov2009</td>\n",
       "      <td>1454</td>\n",
       "      <td>D02</td>\n",
       "      <td>Queen's Pawn Game: Zukertort Variation</td>\n",
       "      <td>3</td>\n",
       "    </tr>\n",
       "    <tr>\n",
       "      <th>4</th>\n",
       "      <td>True</td>\n",
       "      <td>95</td>\n",
       "      <td>mate</td>\n",
       "      <td>white</td>\n",
       "      <td>30+3</td>\n",
       "      <td>nik221107</td>\n",
       "      <td>1523</td>\n",
       "      <td>adivanov2009</td>\n",
       "      <td>1469</td>\n",
       "      <td>C41</td>\n",
       "      <td>Philidor Defense</td>\n",
       "      <td>5</td>\n",
       "    </tr>\n",
       "    <tr>\n",
       "      <th>...</th>\n",
       "      <td>...</td>\n",
       "      <td>...</td>\n",
       "      <td>...</td>\n",
       "      <td>...</td>\n",
       "      <td>...</td>\n",
       "      <td>...</td>\n",
       "      <td>...</td>\n",
       "      <td>...</td>\n",
       "      <td>...</td>\n",
       "      <td>...</td>\n",
       "      <td>...</td>\n",
       "      <td>...</td>\n",
       "    </tr>\n",
       "    <tr>\n",
       "      <th>20053</th>\n",
       "      <td>True</td>\n",
       "      <td>24</td>\n",
       "      <td>resign</td>\n",
       "      <td>white</td>\n",
       "      <td>10+10</td>\n",
       "      <td>belcolt</td>\n",
       "      <td>1691</td>\n",
       "      <td>jamboger</td>\n",
       "      <td>1220</td>\n",
       "      <td>A80</td>\n",
       "      <td>Dutch Defense</td>\n",
       "      <td>2</td>\n",
       "    </tr>\n",
       "    <tr>\n",
       "      <th>20054</th>\n",
       "      <td>True</td>\n",
       "      <td>82</td>\n",
       "      <td>mate</td>\n",
       "      <td>black</td>\n",
       "      <td>10+0</td>\n",
       "      <td>jamboger</td>\n",
       "      <td>1233</td>\n",
       "      <td>farrukhasomiddinov</td>\n",
       "      <td>1196</td>\n",
       "      <td>A41</td>\n",
       "      <td>Queen's Pawn</td>\n",
       "      <td>2</td>\n",
       "    </tr>\n",
       "    <tr>\n",
       "      <th>20055</th>\n",
       "      <td>True</td>\n",
       "      <td>35</td>\n",
       "      <td>mate</td>\n",
       "      <td>white</td>\n",
       "      <td>10+0</td>\n",
       "      <td>jamboger</td>\n",
       "      <td>1219</td>\n",
       "      <td>schaaksmurf3</td>\n",
       "      <td>1286</td>\n",
       "      <td>D00</td>\n",
       "      <td>Queen's Pawn Game: Mason Attack</td>\n",
       "      <td>3</td>\n",
       "    </tr>\n",
       "    <tr>\n",
       "      <th>20056</th>\n",
       "      <td>True</td>\n",
       "      <td>109</td>\n",
       "      <td>resign</td>\n",
       "      <td>white</td>\n",
       "      <td>10+0</td>\n",
       "      <td>marcodisogno</td>\n",
       "      <td>1360</td>\n",
       "      <td>jamboger</td>\n",
       "      <td>1227</td>\n",
       "      <td>B07</td>\n",
       "      <td>Pirc Defense</td>\n",
       "      <td>4</td>\n",
       "    </tr>\n",
       "    <tr>\n",
       "      <th>20057</th>\n",
       "      <td>True</td>\n",
       "      <td>78</td>\n",
       "      <td>mate</td>\n",
       "      <td>black</td>\n",
       "      <td>10+0</td>\n",
       "      <td>jamboger</td>\n",
       "      <td>1235</td>\n",
       "      <td>ffbob</td>\n",
       "      <td>1339</td>\n",
       "      <td>D00</td>\n",
       "      <td>Queen's Pawn Game: Mason Attack</td>\n",
       "      <td>3</td>\n",
       "    </tr>\n",
       "  </tbody>\n",
       "</table>\n",
       "<p>19113 rows × 12 columns</p>\n",
       "</div>"
      ],
      "text/plain": [
       "       rated  turns victory_status winner increment_code       white_id  \\\n",
       "0      False     13      outoftime  white           15+2       bourgris   \n",
       "1       True     16         resign  black           5+10           a-00   \n",
       "2       True     61           mate  white           5+10         ischia   \n",
       "3       True     61           mate  white           20+0  daniamurashov   \n",
       "4       True     95           mate  white           30+3      nik221107   \n",
       "...      ...    ...            ...    ...            ...            ...   \n",
       "20053   True     24         resign  white          10+10        belcolt   \n",
       "20054   True     82           mate  black           10+0       jamboger   \n",
       "20055   True     35           mate  white           10+0       jamboger   \n",
       "20056   True    109         resign  white           10+0   marcodisogno   \n",
       "20057   True     78           mate  black           10+0       jamboger   \n",
       "\n",
       "       white_rating            black_id  black_rating opening_eco  \\\n",
       "0              1500                a-00          1191         D10   \n",
       "1              1322           skinnerua          1261         B00   \n",
       "2              1496                a-00          1500         C20   \n",
       "3              1439        adivanov2009          1454         D02   \n",
       "4              1523        adivanov2009          1469         C41   \n",
       "...             ...                 ...           ...         ...   \n",
       "20053          1691            jamboger          1220         A80   \n",
       "20054          1233  farrukhasomiddinov          1196         A41   \n",
       "20055          1219        schaaksmurf3          1286         D00   \n",
       "20056          1360            jamboger          1227         B07   \n",
       "20057          1235               ffbob          1339         D00   \n",
       "\n",
       "                                 opening_name  opening_ply  \n",
       "0            Slav Defense: Exchange Variation            5  \n",
       "1      Nimzowitsch Defense: Kennedy Variation            4  \n",
       "2       King's Pawn Game: Leonardis Variation            3  \n",
       "3      Queen's Pawn Game: Zukertort Variation            3  \n",
       "4                            Philidor Defense            5  \n",
       "...                                       ...          ...  \n",
       "20053                           Dutch Defense            2  \n",
       "20054                            Queen's Pawn            2  \n",
       "20055         Queen's Pawn Game: Mason Attack            3  \n",
       "20056                            Pirc Defense            4  \n",
       "20057         Queen's Pawn Game: Mason Attack            3  \n",
       "\n",
       "[19113 rows x 12 columns]"
      ]
     },
     "execution_count": 157,
     "metadata": {},
     "output_type": "execute_result"
    }
   ],
   "source": [
    "raw_df"
   ]
  },
  {
   "cell_type": "markdown",
   "metadata": {},
   "source": [
    "### Distribution of the victory status:"
   ]
  },
  {
   "cell_type": "code",
   "execution_count": 158,
   "metadata": {},
   "outputs": [
    {
     "data": {
      "image/png": "[encoded data removed]",
      "text/plain": [
       "<Figure size 640x480 with 1 Axes>"
      ]
     },
     "metadata": {},
     "output_type": "display_data"
    }
   ],
   "source": [
    "ax = sns.countplot( x = 'winner', hue = 'victory_status', data = raw_df)\n",
    "ax_attr = ax.set(xlabel = 'Side won', title = 'Distribution of Victory Status')"
   ]
  },
  {
   "cell_type": "markdown",
   "metadata": {},
   "source": [
    "### Distribution of the openings played:\n"
   ]
  },
  {
   "cell_type": "code",
   "execution_count": null,
   "metadata": {},
   "outputs": [
    {
     "name": "stderr",
     "output_type": "stream",
     "text": [
      "C:\\Users\\ACER\\AppData\\Local\\Temp\\ipykernel_6508\\244400024.py:8: UserWarning: set_ticklabels() should only be used with a fixed number of ticks, i.e. after set_ticks() or using a FixedLocator.\n",
      "  ax_attr = chart.set_xticklabels(chart.get_xticklabels(), rotation=90)\n"
     ]
    },
    {
     "data": {
      "image/png": "[encoded data removed]",
      "text/plain": [
       "<Figure size 640x480 with 1 Axes>"
      ]
     },
     "metadata": {},
     "output_type": "display_data"
    }
   ],
   "source": [
    "opening_dist = raw_df['opening_name'].value_counts()\n",
    "\n",
    "chart = sns.barplot( x = opening_dist.index[:10], y = opening_dist[:10])\n",
    "ax_attr = chart.set_xticklabels(chart.get_xticklabels(), rotation=90)\n",
    "ax_attr = chart.set(title = \"Distribution of Openings Played\")"
   ]
  },
  {
   "cell_type": "markdown",
   "metadata": {},
   "source": [
    "### Distribution of the opening_eco:"
   ]
  },
  {
   "cell_type": "code",
   "execution_count": null,
   "metadata": {},
   "outputs": [
    {
     "name": "stdout",
     "output_type": "stream",
     "text": [
      "opening_eco\n",
      "A00    948\n",
      "C00    810\n",
      "D00    701\n",
      "B01    688\n",
      "C41    650\n",
      "      ... \n",
      "C32      1\n",
      "A67      1\n",
      "E18      1\n",
      "D95      1\n",
      "D19      1\n",
      "Name: count, Length: 365, dtype: int64\n"
     ]
    },
    {
     "data": {
      "image/png": "[encoded data removed]",
      "text/plain": [
       "<Figure size 640x480 with 1 Axes>"
      ]
     },
     "metadata": {},
     "output_type": "display_data"
    }
   ],
   "source": [
    "opening_dist = raw_df['opening_eco'].value_counts()\n",
    "print(opening_dist)\n",
    "chart = sns.barplot(y=opening_dist.index[:20], x=opening_dist[:20])\n",
    "\n",
    "ax_attr = chart.set_xlabel('Count of Openings')\n",
    "ax_attr = chart.set_ylabel('Opening Name')\n",
    "ax_attr = chart.set(title=\"Distribution of Top 20 Openings Played\")"
   ]
  },
  {
   "cell_type": "markdown",
   "metadata": {},
   "source": [
    "## Data Reduction & Intergration"
   ]
  },
  {
   "cell_type": "markdown",
   "metadata": {},
   "source": [
    "In this part, we will dive into our data. To further dig deeper in this analysis, we will create more features and informations based on existing columns"
   ]
  },
  {
   "cell_type": "markdown",
   "metadata": {},
   "source": [
    "The **game_category** feature is simplified into three categories: rapid, bullet, and blitz, based on the increment_code. This reduces complexity while making the data easier to analyze.\n",
    "\n",
    "Initially, the game_category is encoded as numeric values:\n",
    "\n",
    "- Games with an **increment_code** of 10 or higher are labeled as 'rapid'.\n",
    "- Games with an **increment_code** below 3 are labeled as 'bullet'.\n",
    "- Games with an **increment_code** between 3 and 10 are categorized as 'blitz'."
   ]
  },
  {
   "cell_type": "code",
   "execution_count": 161,
   "metadata": {},
   "outputs": [
    {
     "name": "stderr",
     "output_type": "stream",
     "text": [
      "C:\\Users\\ACER\\AppData\\Local\\Temp\\ipykernel_6508\\1151165773.py:6: FutureWarning: ChainedAssignmentError: behaviour will change in pandas 3.0!\n",
      "You are setting values through chained assignment. Currently this works in certain cases, but when using Copy-on-Write (which will become the default behaviour in pandas 3.0) this will never work to update the original DataFrame or Series, because the intermediate object on which we are setting values will behave as a copy.\n",
      "A typical example is when you are setting values in a column of a DataFrame, like:\n",
      "\n",
      "df[\"col\"][row_indexer] = value\n",
      "\n",
      "Use `df.loc[row_indexer, \"col\"] = values` instead, to perform the assignment in a single step and ensure this keeps updating the original `df`.\n",
      "\n",
      "See the caveats in the documentation: https://pandas.pydata.org/pandas-docs/stable/user_guide/indexing.html#returning-a-view-versus-a-copy\n",
      "\n",
      "  raw_df['game_category'][raw_df['game_category'] >= 10] = 11\n",
      "C:\\Users\\ACER\\AppData\\Local\\Temp\\ipykernel_6508\\1151165773.py:6: SettingWithCopyWarning: \n",
      "A value is trying to be set on a copy of a slice from a DataFrame\n",
      "\n",
      "See the caveats in the documentation: https://pandas.pydata.org/pandas-docs/stable/user_guide/indexing.html#returning-a-view-versus-a-copy\n",
      "  raw_df['game_category'][raw_df['game_category'] >= 10] = 11\n",
      "C:\\Users\\ACER\\AppData\\Local\\Temp\\ipykernel_6508\\1151165773.py:7: FutureWarning: ChainedAssignmentError: behaviour will change in pandas 3.0!\n",
      "You are setting values through chained assignment. Currently this works in certain cases, but when using Copy-on-Write (which will become the default behaviour in pandas 3.0) this will never work to update the original DataFrame or Series, because the intermediate object on which we are setting values will behave as a copy.\n",
      "A typical example is when you are setting values in a column of a DataFrame, like:\n",
      "\n",
      "df[\"col\"][row_indexer] = value\n",
      "\n",
      "Use `df.loc[row_indexer, \"col\"] = values` instead, to perform the assignment in a single step and ensure this keeps updating the original `df`.\n",
      "\n",
      "See the caveats in the documentation: https://pandas.pydata.org/pandas-docs/stable/user_guide/indexing.html#returning-a-view-versus-a-copy\n",
      "\n",
      "  raw_df['game_category'][raw_df['game_category'] < 3] = 2\n",
      "C:\\Users\\ACER\\AppData\\Local\\Temp\\ipykernel_6508\\1151165773.py:7: SettingWithCopyWarning: \n",
      "A value is trying to be set on a copy of a slice from a DataFrame\n",
      "\n",
      "See the caveats in the documentation: https://pandas.pydata.org/pandas-docs/stable/user_guide/indexing.html#returning-a-view-versus-a-copy\n",
      "  raw_df['game_category'][raw_df['game_category'] < 3] = 2\n",
      "C:\\Users\\ACER\\AppData\\Local\\Temp\\ipykernel_6508\\1151165773.py:8: FutureWarning: ChainedAssignmentError: behaviour will change in pandas 3.0!\n",
      "You are setting values through chained assignment. Currently this works in certain cases, but when using Copy-on-Write (which will become the default behaviour in pandas 3.0) this will never work to update the original DataFrame or Series, because the intermediate object on which we are setting values will behave as a copy.\n",
      "A typical example is when you are setting values in a column of a DataFrame, like:\n",
      "\n",
      "df[\"col\"][row_indexer] = value\n",
      "\n",
      "Use `df.loc[row_indexer, \"col\"] = values` instead, to perform the assignment in a single step and ensure this keeps updating the original `df`.\n",
      "\n",
      "See the caveats in the documentation: https://pandas.pydata.org/pandas-docs/stable/user_guide/indexing.html#returning-a-view-versus-a-copy\n",
      "\n",
      "  raw_df['game_category'][(raw_df['game_category'] >= 3) & (raw_df['game_category'] < 10)] = 5\n",
      "C:\\Users\\ACER\\AppData\\Local\\Temp\\ipykernel_6508\\1151165773.py:8: SettingWithCopyWarning: \n",
      "A value is trying to be set on a copy of a slice from a DataFrame\n",
      "\n",
      "See the caveats in the documentation: https://pandas.pydata.org/pandas-docs/stable/user_guide/indexing.html#returning-a-view-versus-a-copy\n",
      "  raw_df['game_category'][(raw_df['game_category'] >= 3) & (raw_df['game_category'] < 10)] = 5\n",
      "C:\\Users\\ACER\\AppData\\Local\\Temp\\ipykernel_6508\\1151165773.py:10: FutureWarning: A value is trying to be set on a copy of a DataFrame or Series through chained assignment using an inplace method.\n",
      "The behavior will change in pandas 3.0. This inplace method will never work because the intermediate object on which we are setting values always behaves as a copy.\n",
      "\n",
      "For example, when doing 'df[col].method(value, inplace=True)', try using 'df.method({col: value}, inplace=True)' or df[col] = df[col].method(value) instead, to perform the operation inplace on the original object.\n",
      "\n",
      "\n",
      "  raw_df['game_category'].replace(11, 'rapid', inplace = True)\n"
     ]
    }
   ],
   "source": [
    "raw_df['game_category'] = raw_df['increment_code'].str.split('+').str[0]\n",
    "\n",
    "raw_df['game_category'] = raw_df['game_category'].astype(int)\n",
    "\n",
    "#This approach is more like a short-cut and not a very generalized approach. This will be fixed soon.\n",
    "raw_df['game_category'][raw_df['game_category'] >= 10] = 11\n",
    "raw_df['game_category'][raw_df['game_category'] < 3] = 2\n",
    "raw_df['game_category'][(raw_df['game_category'] >= 3) & (raw_df['game_category'] < 10)] = 5\n",
    "\n",
    "raw_df['game_category'].replace(11, 'rapid', inplace = True)\n",
    "raw_df['game_category'].replace(2, 'bullet', inplace = True)\n",
    "raw_df['game_category'].replace(5, 'blitz', inplace = True)"
   ]
  },
  {
   "cell_type": "code",
   "execution_count": 162,
   "metadata": {},
   "outputs": [
    {
     "data": {
      "text/html": [
       "<div>\n",
       "<style scoped>\n",
       "    .dataframe tbody tr th:only-of-type {\n",
       "        vertical-align: middle;\n",
       "    }\n",
       "\n",
       "    .dataframe tbody tr th {\n",
       "        vertical-align: top;\n",
       "    }\n",
       "\n",
       "    .dataframe thead th {\n",
       "        text-align: right;\n",
       "    }\n",
       "</style>\n",
       "<table border=\"1\" class=\"dataframe\">\n",
       "  <thead>\n",
       "    <tr style=\"text-align: right;\">\n",
       "      <th></th>\n",
       "      <th>rated</th>\n",
       "      <th>turns</th>\n",
       "      <th>victory_status</th>\n",
       "      <th>winner</th>\n",
       "      <th>increment_code</th>\n",
       "      <th>white_id</th>\n",
       "      <th>white_rating</th>\n",
       "      <th>black_id</th>\n",
       "      <th>black_rating</th>\n",
       "      <th>opening_eco</th>\n",
       "      <th>opening_name</th>\n",
       "      <th>opening_ply</th>\n",
       "      <th>game_category</th>\n",
       "    </tr>\n",
       "  </thead>\n",
       "  <tbody>\n",
       "    <tr>\n",
       "      <th>0</th>\n",
       "      <td>False</td>\n",
       "      <td>13</td>\n",
       "      <td>outoftime</td>\n",
       "      <td>white</td>\n",
       "      <td>15+2</td>\n",
       "      <td>bourgris</td>\n",
       "      <td>1500</td>\n",
       "      <td>a-00</td>\n",
       "      <td>1191</td>\n",
       "      <td>D10</td>\n",
       "      <td>Slav Defense: Exchange Variation</td>\n",
       "      <td>5</td>\n",
       "      <td>rapid</td>\n",
       "    </tr>\n",
       "    <tr>\n",
       "      <th>1</th>\n",
       "      <td>True</td>\n",
       "      <td>16</td>\n",
       "      <td>resign</td>\n",
       "      <td>black</td>\n",
       "      <td>5+10</td>\n",
       "      <td>a-00</td>\n",
       "      <td>1322</td>\n",
       "      <td>skinnerua</td>\n",
       "      <td>1261</td>\n",
       "      <td>B00</td>\n",
       "      <td>Nimzowitsch Defense: Kennedy Variation</td>\n",
       "      <td>4</td>\n",
       "      <td>blitz</td>\n",
       "    </tr>\n",
       "    <tr>\n",
       "      <th>2</th>\n",
       "      <td>True</td>\n",
       "      <td>61</td>\n",
       "      <td>mate</td>\n",
       "      <td>white</td>\n",
       "      <td>5+10</td>\n",
       "      <td>ischia</td>\n",
       "      <td>1496</td>\n",
       "      <td>a-00</td>\n",
       "      <td>1500</td>\n",
       "      <td>C20</td>\n",
       "      <td>King's Pawn Game: Leonardis Variation</td>\n",
       "      <td>3</td>\n",
       "      <td>blitz</td>\n",
       "    </tr>\n",
       "    <tr>\n",
       "      <th>3</th>\n",
       "      <td>True</td>\n",
       "      <td>61</td>\n",
       "      <td>mate</td>\n",
       "      <td>white</td>\n",
       "      <td>20+0</td>\n",
       "      <td>daniamurashov</td>\n",
       "      <td>1439</td>\n",
       "      <td>adivanov2009</td>\n",
       "      <td>1454</td>\n",
       "      <td>D02</td>\n",
       "      <td>Queen's Pawn Game: Zukertort Variation</td>\n",
       "      <td>3</td>\n",
       "      <td>rapid</td>\n",
       "    </tr>\n",
       "    <tr>\n",
       "      <th>4</th>\n",
       "      <td>True</td>\n",
       "      <td>95</td>\n",
       "      <td>mate</td>\n",
       "      <td>white</td>\n",
       "      <td>30+3</td>\n",
       "      <td>nik221107</td>\n",
       "      <td>1523</td>\n",
       "      <td>adivanov2009</td>\n",
       "      <td>1469</td>\n",
       "      <td>C41</td>\n",
       "      <td>Philidor Defense</td>\n",
       "      <td>5</td>\n",
       "      <td>rapid</td>\n",
       "    </tr>\n",
       "    <tr>\n",
       "      <th>...</th>\n",
       "      <td>...</td>\n",
       "      <td>...</td>\n",
       "      <td>...</td>\n",
       "      <td>...</td>\n",
       "      <td>...</td>\n",
       "      <td>...</td>\n",
       "      <td>...</td>\n",
       "      <td>...</td>\n",
       "      <td>...</td>\n",
       "      <td>...</td>\n",
       "      <td>...</td>\n",
       "      <td>...</td>\n",
       "      <td>...</td>\n",
       "    </tr>\n",
       "    <tr>\n",
       "      <th>20053</th>\n",
       "      <td>True</td>\n",
       "      <td>24</td>\n",
       "      <td>resign</td>\n",
       "      <td>white</td>\n",
       "      <td>10+10</td>\n",
       "      <td>belcolt</td>\n",
       "      <td>1691</td>\n",
       "      <td>jamboger</td>\n",
       "      <td>1220</td>\n",
       "      <td>A80</td>\n",
       "      <td>Dutch Defense</td>\n",
       "      <td>2</td>\n",
       "      <td>rapid</td>\n",
       "    </tr>\n",
       "    <tr>\n",
       "      <th>20054</th>\n",
       "      <td>True</td>\n",
       "      <td>82</td>\n",
       "      <td>mate</td>\n",
       "      <td>black</td>\n",
       "      <td>10+0</td>\n",
       "      <td>jamboger</td>\n",
       "      <td>1233</td>\n",
       "      <td>farrukhasomiddinov</td>\n",
       "      <td>1196</td>\n",
       "      <td>A41</td>\n",
       "      <td>Queen's Pawn</td>\n",
       "      <td>2</td>\n",
       "      <td>rapid</td>\n",
       "    </tr>\n",
       "    <tr>\n",
       "      <th>20055</th>\n",
       "      <td>True</td>\n",
       "      <td>35</td>\n",
       "      <td>mate</td>\n",
       "      <td>white</td>\n",
       "      <td>10+0</td>\n",
       "      <td>jamboger</td>\n",
       "      <td>1219</td>\n",
       "      <td>schaaksmurf3</td>\n",
       "      <td>1286</td>\n",
       "      <td>D00</td>\n",
       "      <td>Queen's Pawn Game: Mason Attack</td>\n",
       "      <td>3</td>\n",
       "      <td>rapid</td>\n",
       "    </tr>\n",
       "    <tr>\n",
       "      <th>20056</th>\n",
       "      <td>True</td>\n",
       "      <td>109</td>\n",
       "      <td>resign</td>\n",
       "      <td>white</td>\n",
       "      <td>10+0</td>\n",
       "      <td>marcodisogno</td>\n",
       "      <td>1360</td>\n",
       "      <td>jamboger</td>\n",
       "      <td>1227</td>\n",
       "      <td>B07</td>\n",
       "      <td>Pirc Defense</td>\n",
       "      <td>4</td>\n",
       "      <td>rapid</td>\n",
       "    </tr>\n",
       "    <tr>\n",
       "      <th>20057</th>\n",
       "      <td>True</td>\n",
       "      <td>78</td>\n",
       "      <td>mate</td>\n",
       "      <td>black</td>\n",
       "      <td>10+0</td>\n",
       "      <td>jamboger</td>\n",
       "      <td>1235</td>\n",
       "      <td>ffbob</td>\n",
       "      <td>1339</td>\n",
       "      <td>D00</td>\n",
       "      <td>Queen's Pawn Game: Mason Attack</td>\n",
       "      <td>3</td>\n",
       "      <td>rapid</td>\n",
       "    </tr>\n",
       "  </tbody>\n",
       "</table>\n",
       "<p>19113 rows × 13 columns</p>\n",
       "</div>"
      ],
      "text/plain": [
       "       rated  turns victory_status winner increment_code       white_id  \\\n",
       "0      False     13      outoftime  white           15+2       bourgris   \n",
       "1       True     16         resign  black           5+10           a-00   \n",
       "2       True     61           mate  white           5+10         ischia   \n",
       "3       True     61           mate  white           20+0  daniamurashov   \n",
       "4       True     95           mate  white           30+3      nik221107   \n",
       "...      ...    ...            ...    ...            ...            ...   \n",
       "20053   True     24         resign  white          10+10        belcolt   \n",
       "20054   True     82           mate  black           10+0       jamboger   \n",
       "20055   True     35           mate  white           10+0       jamboger   \n",
       "20056   True    109         resign  white           10+0   marcodisogno   \n",
       "20057   True     78           mate  black           10+0       jamboger   \n",
       "\n",
       "       white_rating            black_id  black_rating opening_eco  \\\n",
       "0              1500                a-00          1191         D10   \n",
       "1              1322           skinnerua          1261         B00   \n",
       "2              1496                a-00          1500         C20   \n",
       "3              1439        adivanov2009          1454         D02   \n",
       "4              1523        adivanov2009          1469         C41   \n",
       "...             ...                 ...           ...         ...   \n",
       "20053          1691            jamboger          1220         A80   \n",
       "20054          1233  farrukhasomiddinov          1196         A41   \n",
       "20055          1219        schaaksmurf3          1286         D00   \n",
       "20056          1360            jamboger          1227         B07   \n",
       "20057          1235               ffbob          1339         D00   \n",
       "\n",
       "                                 opening_name  opening_ply game_category  \n",
       "0            Slav Defense: Exchange Variation            5         rapid  \n",
       "1      Nimzowitsch Defense: Kennedy Variation            4         blitz  \n",
       "2       King's Pawn Game: Leonardis Variation            3         blitz  \n",
       "3      Queen's Pawn Game: Zukertort Variation            3         rapid  \n",
       "4                            Philidor Defense            5         rapid  \n",
       "...                                       ...          ...           ...  \n",
       "20053                           Dutch Defense            2         rapid  \n",
       "20054                            Queen's Pawn            2         rapid  \n",
       "20055         Queen's Pawn Game: Mason Attack            3         rapid  \n",
       "20056                            Pirc Defense            4         rapid  \n",
       "20057         Queen's Pawn Game: Mason Attack            3         rapid  \n",
       "\n",
       "[19113 rows x 13 columns]"
      ]
     },
     "execution_count": 162,
     "metadata": {},
     "output_type": "execute_result"
    }
   ],
   "source": [
    "raw_df"
   ]
  },
  {
   "cell_type": "markdown",
   "metadata": {},
   "source": [
    "How are the values in **game_category** distributed ?"
   ]
  },
  {
   "cell_type": "code",
   "execution_count": 163,
   "metadata": {},
   "outputs": [
    {
     "data": {
      "text/plain": [
       "game_category\n",
       "rapid     15213\n",
       "blitz      3777\n",
       "bullet      123\n",
       "Name: count, dtype: int64"
      ]
     },
     "execution_count": 163,
     "metadata": {},
     "output_type": "execute_result"
    }
   ],
   "source": [
    "raw_df['game_category'].value_counts()"
   ]
  },
  {
   "cell_type": "code",
   "execution_count": 164,
   "metadata": {},
   "outputs": [
    {
     "name": "stderr",
     "output_type": "stream",
     "text": [
      "C:\\Users\\ACER\\AppData\\Local\\Temp\\ipykernel_6508\\652619348.py:8: UserWarning: set_ticklabels() should only be used with a fixed number of ticks, i.e. after set_ticks() or using a FixedLocator.\n",
      "  ax_attr = chart.set_xticklabels(chart.get_xticklabels(), rotation=90)\n"
     ]
    },
    {
     "data": {
      "image/png": "[encoded data removed]",
      "text/plain": [
       "<Figure size 640x480 with 1 Axes>"
      ]
     },
     "metadata": {},
     "output_type": "display_data"
    }
   ],
   "source": [
    "game_cat = raw_df['game_category'].value_counts()\n",
    "\n",
    "#plotting the top 30 opening played\n",
    "#opening_dist[:30].plot.bar()\n",
    "\n",
    "#sns.countplot(games['opening_name'])\n",
    "chart = sns.barplot( x = game_cat.index[:10], y = game_cat[:10])\n",
    "ax_attr = chart.set_xticklabels(chart.get_xticklabels(), rotation=90)\n",
    "ax_attr = chart.set(title = \"Distribution of Game Category\")"
   ]
  },
  {
   "cell_type": "markdown",
   "metadata": {},
   "source": [
    "\n",
    "We will create a new attribute based on the player's Rating. According to Lichess rules, player proficiency is divided into 6 levels from lowest to highest:\n",
    "\n",
    "- **Rookie**: For players with a rating <= 1100, these are beginners in chess.\n",
    "- **Beginner**: For players with a rating from 1100 to 1600, representing players with basic experience.\n",
    "- **Intermediate**: For players with a rating from 1600 to 2000, representing players with stable skills.\n",
    "- **Advanced**: For players with a rating from 2000 to 2300, representing players with quite high proficiency.\n",
    "- **Expert**: For players with a rating from 2300 to 3000, representing players with excellent skills.\n",
    "- **GrandMaster**: For players with a rating above 3000, representing masters of chess."
   ]
  },
  {
   "cell_type": "code",
   "execution_count": 165,
   "metadata": {},
   "outputs": [],
   "source": [
    "rating_levels = []\n",
    "\n",
    "def assign_level(player_rating):\n",
    "    level = \"\"\n",
    "    if player_rating <= 1100:\n",
    "        level = \"Rookie\"\n",
    "    elif 1100 < player_rating <= 1600:\n",
    "        level = \"Beginner\"\n",
    "    elif 1600 < player_rating <= 2000:\n",
    "        level = \"Intermediate\"\n",
    "    elif 2000 < player_rating <= 2300:\n",
    "        level = \"Advanced\"\n",
    "    elif 2300 < player_rating <= 3000:\n",
    "        level = \"Expert\"\n",
    "    elif player_rating > 3000:\n",
    "        level = \"GrandMaster\"\n",
    "    \n",
    "    rating_levels.append(level)\n"
   ]
  },
  {
   "cell_type": "markdown",
   "metadata": {},
   "source": [
    "We are enriching our dataset by categorizing the players based on their rating. "
   ]
  },
  {
   "cell_type": "code",
   "execution_count": 166,
   "metadata": {},
   "outputs": [],
   "source": [
    "raw_df[\"white_rating\"].map(assign_level) \n",
    "raw_df[\"white level\"]=rating_levels\n",
    "\n",
    "rating_levels=[]    \n",
    "\n",
    "raw_df[\"black_rating\"].map(assign_level)\n",
    "raw_df[\"black level\"]= rating_levels"
   ]
  },
  {
   "cell_type": "code",
   "execution_count": 167,
   "metadata": {},
   "outputs": [
    {
     "data": {
      "text/html": [
       "<div>\n",
       "<style scoped>\n",
       "    .dataframe tbody tr th:only-of-type {\n",
       "        vertical-align: middle;\n",
       "    }\n",
       "\n",
       "    .dataframe tbody tr th {\n",
       "        vertical-align: top;\n",
       "    }\n",
       "\n",
       "    .dataframe thead th {\n",
       "        text-align: right;\n",
       "    }\n",
       "</style>\n",
       "<table border=\"1\" class=\"dataframe\">\n",
       "  <thead>\n",
       "    <tr style=\"text-align: right;\">\n",
       "      <th></th>\n",
       "      <th>rated</th>\n",
       "      <th>turns</th>\n",
       "      <th>victory_status</th>\n",
       "      <th>winner</th>\n",
       "      <th>increment_code</th>\n",
       "      <th>white_id</th>\n",
       "      <th>white_rating</th>\n",
       "      <th>black_id</th>\n",
       "      <th>black_rating</th>\n",
       "      <th>opening_eco</th>\n",
       "      <th>opening_name</th>\n",
       "      <th>opening_ply</th>\n",
       "      <th>game_category</th>\n",
       "      <th>white level</th>\n",
       "      <th>black level</th>\n",
       "    </tr>\n",
       "  </thead>\n",
       "  <tbody>\n",
       "    <tr>\n",
       "      <th>0</th>\n",
       "      <td>False</td>\n",
       "      <td>13</td>\n",
       "      <td>outoftime</td>\n",
       "      <td>white</td>\n",
       "      <td>15+2</td>\n",
       "      <td>bourgris</td>\n",
       "      <td>1500</td>\n",
       "      <td>a-00</td>\n",
       "      <td>1191</td>\n",
       "      <td>D10</td>\n",
       "      <td>Slav Defense: Exchange Variation</td>\n",
       "      <td>5</td>\n",
       "      <td>rapid</td>\n",
       "      <td>Beginner</td>\n",
       "      <td>Beginner</td>\n",
       "    </tr>\n",
       "    <tr>\n",
       "      <th>1</th>\n",
       "      <td>True</td>\n",
       "      <td>16</td>\n",
       "      <td>resign</td>\n",
       "      <td>black</td>\n",
       "      <td>5+10</td>\n",
       "      <td>a-00</td>\n",
       "      <td>1322</td>\n",
       "      <td>skinnerua</td>\n",
       "      <td>1261</td>\n",
       "      <td>B00</td>\n",
       "      <td>Nimzowitsch Defense: Kennedy Variation</td>\n",
       "      <td>4</td>\n",
       "      <td>blitz</td>\n",
       "      <td>Beginner</td>\n",
       "      <td>Beginner</td>\n",
       "    </tr>\n",
       "    <tr>\n",
       "      <th>2</th>\n",
       "      <td>True</td>\n",
       "      <td>61</td>\n",
       "      <td>mate</td>\n",
       "      <td>white</td>\n",
       "      <td>5+10</td>\n",
       "      <td>ischia</td>\n",
       "      <td>1496</td>\n",
       "      <td>a-00</td>\n",
       "      <td>1500</td>\n",
       "      <td>C20</td>\n",
       "      <td>King's Pawn Game: Leonardis Variation</td>\n",
       "      <td>3</td>\n",
       "      <td>blitz</td>\n",
       "      <td>Beginner</td>\n",
       "      <td>Beginner</td>\n",
       "    </tr>\n",
       "    <tr>\n",
       "      <th>3</th>\n",
       "      <td>True</td>\n",
       "      <td>61</td>\n",
       "      <td>mate</td>\n",
       "      <td>white</td>\n",
       "      <td>20+0</td>\n",
       "      <td>daniamurashov</td>\n",
       "      <td>1439</td>\n",
       "      <td>adivanov2009</td>\n",
       "      <td>1454</td>\n",
       "      <td>D02</td>\n",
       "      <td>Queen's Pawn Game: Zukertort Variation</td>\n",
       "      <td>3</td>\n",
       "      <td>rapid</td>\n",
       "      <td>Beginner</td>\n",
       "      <td>Beginner</td>\n",
       "    </tr>\n",
       "    <tr>\n",
       "      <th>4</th>\n",
       "      <td>True</td>\n",
       "      <td>95</td>\n",
       "      <td>mate</td>\n",
       "      <td>white</td>\n",
       "      <td>30+3</td>\n",
       "      <td>nik221107</td>\n",
       "      <td>1523</td>\n",
       "      <td>adivanov2009</td>\n",
       "      <td>1469</td>\n",
       "      <td>C41</td>\n",
       "      <td>Philidor Defense</td>\n",
       "      <td>5</td>\n",
       "      <td>rapid</td>\n",
       "      <td>Beginner</td>\n",
       "      <td>Beginner</td>\n",
       "    </tr>\n",
       "  </tbody>\n",
       "</table>\n",
       "</div>"
      ],
      "text/plain": [
       "   rated  turns victory_status winner increment_code       white_id  \\\n",
       "0  False     13      outoftime  white           15+2       bourgris   \n",
       "1   True     16         resign  black           5+10           a-00   \n",
       "2   True     61           mate  white           5+10         ischia   \n",
       "3   True     61           mate  white           20+0  daniamurashov   \n",
       "4   True     95           mate  white           30+3      nik221107   \n",
       "\n",
       "   white_rating      black_id  black_rating opening_eco  \\\n",
       "0          1500          a-00          1191         D10   \n",
       "1          1322     skinnerua          1261         B00   \n",
       "2          1496          a-00          1500         C20   \n",
       "3          1439  adivanov2009          1454         D02   \n",
       "4          1523  adivanov2009          1469         C41   \n",
       "\n",
       "                             opening_name  opening_ply game_category  \\\n",
       "0        Slav Defense: Exchange Variation            5         rapid   \n",
       "1  Nimzowitsch Defense: Kennedy Variation            4         blitz   \n",
       "2   King's Pawn Game: Leonardis Variation            3         blitz   \n",
       "3  Queen's Pawn Game: Zukertort Variation            3         rapid   \n",
       "4                        Philidor Defense            5         rapid   \n",
       "\n",
       "  white level black level  \n",
       "0    Beginner    Beginner  \n",
       "1    Beginner    Beginner  \n",
       "2    Beginner    Beginner  \n",
       "3    Beginner    Beginner  \n",
       "4    Beginner    Beginner  "
      ]
     },
     "execution_count": 167,
     "metadata": {},
     "output_type": "execute_result"
    }
   ],
   "source": [
    "raw_df.head(5)"
   ]
  },
  {
   "cell_type": "markdown",
   "metadata": {},
   "source": [
    "A match is considered high quality if the rating difference is not too large, as a smaller difference usually indicates a more balanced and competitive game. Here, we suggest the following differences as below: \n",
    "\n",
    "\n",
    "1. **Rating Difference <= 200**: This match has a low rating difference, indicating that the game is quite balanced and can be considered of High Quality.\n",
    "2. **200 < Rating Difference <= 400**: This match has a moderate rating difference, suggesting that the game is less balanced but still competitive. It can be considered of Medium Quality.\n",
    "3. **Rating Difference > 400**: This match has a large rating difference, indicating an imbalance in the game. It is often considered of Low Quality because the match is unlikely to be competitive."
   ]
  },
  {
   "cell_type": "code",
   "execution_count": 168,
   "metadata": {},
   "outputs": [],
   "source": [
    "def quality_rating(rating_diff):\n",
    "    if rating_diff <= 200:\n",
    "        return \"High Quality\"  \n",
    "    elif 200 < rating_diff <= 400:\n",
    "        return \"Medium Quality\"  \n",
    "    else:\n",
    "        return \"Low Quality\"  \n",
    "    \n",
    "raw_df[\"Rating_Diff\"] = abs(raw_df['white_rating'] - raw_df['black_rating'])\n",
    "raw_df[\"Quality\"] = raw_df[\"Rating_Diff\"].apply(quality_rating)"
   ]
  },
  {
   "cell_type": "code",
   "execution_count": 169,
   "metadata": {},
   "outputs": [
    {
     "data": {
      "image/png": "[encoded data removed]",
      "text/plain": [
       "<Figure size 1000x600 with 1 Axes>"
      ]
     },
     "metadata": {},
     "output_type": "display_data"
    }
   ],
   "source": [
    "plt.figure(figsize=(10, 6))\n",
    "sns.histplot(data=raw_df, x=\"Rating_Diff\", hue=\"Quality\", multiple=\"stack\", bins=30, palette=\"Set2\")\n",
    "\n",
    "plt.title(\"Distribution of Rating Difference by Match Quality\")\n",
    "plt.xlabel(\"Rating Difference\")\n",
    "plt.ylabel(\"Count\")\n",
    "plt.show()"
   ]
  },
  {
   "cell_type": "markdown",
   "metadata": {},
   "source": [
    "In this step, we are creating a new feature called winner condition, which assesses whether the winner of the match had a lower or higher rating compared to the opponent. This provides insight into whether the winning player was expected to win based on their rating."
   ]
  },
  {
   "cell_type": "code",
   "execution_count": 170,
   "metadata": {},
   "outputs": [],
   "source": [
    "winner_list=[]\n",
    "def winner_check(data):\n",
    "    winner_str=str()\n",
    "    if data[\"white_rating\"] < data[\"black_rating\"] and data[\"winner\"]==\"white\":\n",
    "        winner_str=\"lower rating\"\n",
    "    else:\n",
    "        winner_str=\"higher rating\"\n",
    "    \n",
    "    if data[\"black_rating\"] < data[\"white_rating\"] and data[\"winner\"]==\"black\":\n",
    "        winner_str=\"lower rating\"\n",
    "    else:\n",
    "        winner_str=\"higher rating\"\n",
    "        \n",
    "    winner_list.append(winner_str)\n",
    "    \n",
    "raw_df.apply(winner_check,axis=1)\n",
    "raw_df[\"winner condition\"]=winner_list"
   ]
  },
  {
   "cell_type": "code",
   "execution_count": 171,
   "metadata": {},
   "outputs": [
    {
     "name": "stderr",
     "output_type": "stream",
     "text": [
      "C:\\Users\\ACER\\AppData\\Local\\Temp\\ipykernel_6508\\529672737.py:2: FutureWarning: \n",
      "\n",
      "Passing `palette` without assigning `hue` is deprecated and will be removed in v0.14.0. Assign the `x` variable to `hue` and set `legend=False` for the same effect.\n",
      "\n",
      "  sns.countplot(x='winner condition', data=raw_df, palette='Set2')\n"
     ]
    },
    {
     "data": {
      "image/png": "[encoded data removed]",
      "text/plain": [
       "<Figure size 800x600 with 1 Axes>"
      ]
     },
     "metadata": {},
     "output_type": "display_data"
    }
   ],
   "source": [
    "plt.figure(figsize=(8, 6))\n",
    "sns.countplot(x='winner condition', data=raw_df, palette='Set2')\n",
    "\n",
    "# Add labels and title\n",
    "plt.title('Distribution of Winner Condition')\n",
    "plt.xlabel('Winner Condition')\n",
    "plt.ylabel('Count')\n",
    "\n",
    "# Show the plot\n",
    "plt.tight_layout()\n",
    "plt.show()"
   ]
  }
 ],
 "metadata": {
  "kernelspec": {
   "display_name": "Python 3",
   "language": "python",
   "name": "python3"
  },
  "language_info": {
   "codemirror_mode": {
    "name": "ipython",
    "version": 3
   },
   "file_extension": ".py",
   "mimetype": "text/x-python",
   "name": "python",
   "nbconvert_exporter": "python",
   "pygments_lexer": "ipython3",
   "version": "3.12.3"
  }
 },
 "nbformat": 4,
 "nbformat_minor": 2
}
